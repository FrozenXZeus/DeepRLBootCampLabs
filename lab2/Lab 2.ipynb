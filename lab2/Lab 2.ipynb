{
 "cells": [
  {
   "cell_type": "code",
   "execution_count": 1,
   "metadata": {
    "collapsed": true
   },
   "outputs": [],
   "source": [
    "\"\"\"\n",
    "This project was developed by Peter Chen, Rocky Duan, Pieter Abbeel for the Berkeley Deep RL Bootcamp, August 2017.\n",
    "Bootcamp website with slides and lecture videos: https://sites.google.com/view/deep-rl-bootcamp/.\n",
    "\n",
    "Code adapted from Stanford CS231N materials: http://cs231n.stanford.edu/\n",
    "\"\"\"\n",
    "\n",
    "\n",
    "# note to properly run this lab, you should execute all code blocks sequentially\n",
    "import chainer\n",
    "import chainer.functions as F\n",
    "import chainer.links as L\n",
    "from chainer import training\n",
    "from chainer.training import extensions\n",
    "\n",
    "from collections import namedtuple, defaultdict, deque\n",
    "\n",
    "import numpy as np\n",
    "\n",
    "%matplotlib inline\n",
    "\n",
    "import matplotlib\n",
    "import matplotlib.pyplot as plt"
   ]
  },
  {
   "cell_type": "markdown",
   "metadata": {},
   "source": [
    "## Introduction to Chainer\n",
    "\n",
    "Chainer can be understood as Numpy plus the ability to record the computation graph of numerical operations to enable Automatic Differentiation. (Chainer actually also offers many other things; for example, a Numpy equivalent library that runs on GPU, but we will ignore them for now)"
   ]
  },
  {
   "cell_type": "markdown",
   "metadata": {},
   "source": [
    "Let's illustrate how Chainer works by a simple 1D regression task.\n",
    "\n",
    "Suppose we have observations from the following model $y = w x + b + \\epsilon$ where $\\epsilon \\sim \\mathcal{N}(0, 0.1)$ and the task is to estimate the linear model parameters $w, b$ from data."
   ]
  },
  {
   "cell_type": "code",
   "execution_count": 2,
   "metadata": {},
   "outputs": [
    {
     "data": {
      "image/png": "[encoded data removed]",
      "text/plain": [
       "<matplotlib.figure.Figure at 0x7fec4db5b550>"
      ]
     },
     "metadata": {},
     "output_type": "display_data"
    }
   ],
   "source": [
    "# first generate some observations\n",
    "true_a = 1.3\n",
    "true_b = 0.4\n",
    "data_x = (np.arange(100) / 99.0 - .5).astype(np.float32) # Chainer assumes all the cpu computation is done in float32\n",
    "data_y = (data_x * true_a + true_b + np.random.randn(*data_x.shape) * 0.1).astype(np.float32)\n",
    "_ = plt.scatter(data_x, data_y, c='b')"
   ]
  },
  {
   "cell_type": "markdown",
   "metadata": {},
   "source": [
    "Chainer provides an abstraction called `Link` that describe some computation and keeps track of parameters for it. For instance, a `Linear` link describes a linear map on input and keeps track of `w` and bias `b`."
   ]
  },
  {
   "cell_type": "code",
   "execution_count": 5,
   "metadata": {},
   "outputs": [
    {
     "name": "stdout",
     "output_type": "stream",
     "text": [
      "w: variable W([[-0.68022251]])\n",
      "b: variable b([ 0.])\n",
      "Operations on chainer.Variable: variable([[ 122.31977844]]), type: <class 'chainer.variable.Variable'>\n",
      "numpy arrays: [[-0.68022251]] [[ 122.31977844]]\n"
     ]
    }
   ],
   "source": [
    "model = L.Linear(in_size=1, out_size=1) # input is 1D data and output is also 1D data\n",
    "\n",
    "# Chainer will randomly initialize `w` and `b` for us.\n",
    "# we can take a look at their values\n",
    "print(\"w:\", model.W)\n",
    "print(\"b:\", model.b)\n",
    "\n",
    "# model.W and model.b have type `chainer.Variable`, \n",
    "#   which is a wrapper around Numpy array\n",
    "assert isinstance(model.W, chainer.Variable)\n",
    "\n",
    "# operations that involve `chainer.Variable` will produce\n",
    "#   `chainer.Variable` and this records the computation graph\n",
    "var_result = model.W + 123 # some random computation\n",
    "print(\"Operations on chainer.Variable: %s, type: %s\" % (var_result, type(var_result)))\n",
    "\n",
    "# the underlying numpy array can be accessed by `data` attribute\n",
    "print(\"numpy arrays:\", model.W.data, var_result.data)"
   ]
  },
  {
   "cell_type": "code",
   "execution_count": 8,
   "metadata": {},
   "outputs": [
    {
     "data": {
      "image/png": "[encoded data removed]",
      "text/plain": [
       "<matplotlib.figure.Figure at 0x7fec01078cc0>"
      ]
     },
     "metadata": {},
     "output_type": "display_data"
    }
   ],
   "source": [
    "# A chainer link is a callable object. calling it performs the\n",
    "#   forward computation. (in this case, it performs Wx + b)\n",
    "model_y = model(data_x[:, None]) # chainer's link usually assumes input is [Batch Size, Input Dimension]\n",
    "# `model_y` is a chainer variable so we use `.data` to access its numpy array for plotting\n",
    "\n",
    "# we can plot the model's current fit in red. it should be terrible because we haven't trained it yet\n",
    "_ = plt.plot(data_x, model_y.data[:,0], c='r')\n",
    "_ = plt.scatter(data_x, data_y, c='b')\n",
    "_ = plt.title(\"Initial model\")"
   ]
  },
  {
   "cell_type": "code",
   "execution_count": 9,
   "metadata": {},
   "outputs": [
    {
     "name": "stdout",
     "output_type": "stream",
     "text": [
      "loss variable(0.4779221713542938)\n",
      "dloss/dW [[-0.32385135]]\n"
     ]
    }
   ],
   "source": [
    "# now let's walk through how to perform forward computation\n",
    "#  and use AD to get gradients\n",
    "\n",
    "# first we clear the gradients that are stored in the model\n",
    "model.cleargrads()\n",
    "# as we have seen we can perform forward computation by calling the link\n",
    "model_y = model(data_x[:, None])\n",
    "\n",
    "# remember that `model_y` is a chainer variable. to operate on chainer variable\n",
    "#    we will use functions from chainer.functions to operate on those objects.\n",
    "loss = F.mean(F.square(model_y - data_y[:, None]))\n",
    "# `loss` is a scalar chainer variable\n",
    "assert isinstance(loss, chainer.Variable)\n",
    "print(\"loss\", loss)\n",
    "# calculating gradients d loss /d params is as simple as\n",
    "loss.backward()\n",
    "\n",
    "# we can inspect the gradient of loss with respect to W\n",
    "print(\"dloss/dW\", model.W.grad)"
   ]
  },
  {
   "cell_type": "markdown",
   "metadata": {},
   "source": [
    "Now that we know how to calculate gradients, we can code up a simple loop to perform gradient descent to train this model:\n",
    "\n",
    "(Hint: if you run into weird problems, maybe the state has been messed up and you can try re-runing all the code blocks from the beginning)"
   ]
  },
  {
   "cell_type": "code",
   "execution_count": 30,
   "metadata": {},
   "outputs": [
    {
     "name": "stdout",
     "output_type": "stream",
     "text": [
      "Itr 0 loss: variable(0.17679715156555176)\n",
      "Itr 25 loss: variable(0.013679123483598232)\n",
      "Itr 50 loss: variable(0.011897764168679714)\n",
      "Itr 75 loss: variable(0.011143017560243607)\n"
     ]
    },
    {
     "data": {
      "image/png": "[encoded data removed]",
      "text/plain": [
       "<matplotlib.figure.Figure at 0x7fec00e80668>"
      ]
     },
     "metadata": {},
     "output_type": "display_data"
    },
    {
     "data": {
      "image/png": "[encoded data removed]",
      "text/plain": [
       "<matplotlib.figure.Figure at 0x7fec01060c88>"
      ]
     },
     "metadata": {},
     "output_type": "display_data"
    }
   ],
   "source": [
    "# now we can perform gradient descent to improve this model\n",
    "model = L.Linear(in_size=1, out_size=1)\n",
    "losses = []\n",
    "\n",
    "for i in range(100):\n",
    "    model.cleargrads()\n",
    "    loss = F.mean(F.square(model(data_x[:, None]) - data_y[:, None]))\n",
    "    losses.append(float(loss.data))\n",
    "    ## *** YOUR CODE HERE TO PERFORM GRADIENT DESCENT ***\n",
    "    ## Hint: you could access gradients with model.W.grad, model.b.grad\n",
    "    ## Hint2: you could write data into a parameter with model.W.data[:] = some_numpy_array\n",
    "    ## Hint3: if your model doesn't learn, remember to try different learning rates\n",
    "    loss.backward()\n",
    "    model.W.data[:] = model.W.data - model.W.grad * 0.1\n",
    "    model.b.data[:] = model.b.data - model.b.grad * 0.1\n",
    "    \n",
    "    if i % 25 == 0:\n",
    "        print(\"Itr\", i, \"loss:\", loss)\n",
    "plt.plot(np.array(losses))\n",
    "plt.title(\"Learning curve\")\n",
    "plt.figure()\n",
    "plt.plot(data_x, model(data_x[:, None])[:,0].data, c='r')\n",
    "plt.scatter(data_x, data_y, c='b')\n",
    "_ = plt.title(\"Trained model fitness\")\n"
   ]
  },
  {
   "cell_type": "markdown",
   "metadata": {},
   "source": [
    "## Train your first deep model\n",
    "\n",
    "Now we have learned the basics of Chainer. We can use it to train a deep model to classify MNIST digits. We will train a model on the MNIST dataset because the dataset is small.\n",
    "\n",
    "First we load the data and see what the images look like:"
   ]
  },
  {
   "cell_type": "code",
   "execution_count": 31,
   "metadata": {
    "scrolled": false
   },
   "outputs": [
    {
     "name": "stdout",
     "output_type": "stream",
     "text": [
      "Downloading from http://yann.lecun.com/exdb/mnist/train-images-idx3-ubyte.gz...\n",
      "Downloading from http://yann.lecun.com/exdb/mnist/train-labels-idx1-ubyte.gz...\n",
      "Downloading from http://yann.lecun.com/exdb/mnist/t10k-images-idx3-ubyte.gz...\n",
      "Downloading from http://yann.lecun.com/exdb/mnist/t10k-labels-idx1-ubyte.gz...\n",
      "train[i][0] is the ith image that's flattened, and has shape: (784,)\n",
      "train[i][1] is the ith image's label, such as: 3\n"
     ]
    },
    {
     "data": {
      "image/png": "[encoded data removed]",
      "text/plain": [
       "<matplotlib.figure.Figure at 0x7fec0101a1d0>"
      ]
     },
     "metadata": {},
     "output_type": "display_data"
    },
    {
     "data": {
      "image/png": "[encoded data removed]",
      "text/plain": [
       "<matplotlib.figure.Figure at 0x7fec01114cf8>"
      ]
     },
     "metadata": {},
     "output_type": "display_data"
    }
   ],
   "source": [
    "train, test = chainer.datasets.get_mnist()\n",
    "# use train[data_point_index] to access data\n",
    "print(\"train[i][0] is the ith image that's flattened, and has shape:\", train[12][0].shape)\n",
    "print(\"train[i][1] is the ith image's label, such as:\", train[12][1])\n",
    "# here we visualize two of them\n",
    "plt.imshow(train[12][0].reshape([28, 28,]))\n",
    "plt.title(\"Label: %s\" % train[12][1])\n",
    "plt.figure()\n",
    "plt.imshow(train[42][0].reshape([28, 28,]))\n",
    "_ = plt.title(\"Label: %s\" % train[42][1])"
   ]
  },
  {
   "cell_type": "markdown",
   "metadata": {},
   "source": [
    "Next we will provide some boilerplate code and train a linear classifier as an example:"
   ]
  },
  {
   "cell_type": "code",
   "execution_count": 45,
   "metadata": {},
   "outputs": [
    {
     "name": "stdout",
     "output_type": "stream",
     "text": [
      "loss: 2.42467546463; accuracy: 0.0\n",
      "loss: 0.5896922791; accuracy: 0.8675\n",
      "loss: 0.473868559599; accuracy: 0.88\n",
      "loss: 0.483161211014; accuracy: 0.8525\n",
      "loss: 0.348277419508; accuracy: 0.9125\n",
      "loss: 0.317501226664; accuracy: 0.91\n",
      "loss: 0.384700439274; accuracy: 0.885\n",
      "loss: 0.364104343057; accuracy: 0.8925\n",
      "loss: 0.252983429134; accuracy: 0.93\n",
      "loss: 0.406111112237; accuracy: 0.865\n",
      "loss: 0.354974160492; accuracy: 0.9025\n",
      "loss: 0.293176808357; accuracy: 0.9025\n",
      "loss: 0.295806816518; accuracy: 0.915\n",
      "loss: 0.282971521616; accuracy: 0.915\n",
      "loss: 0.257278727889; accuracy: 0.9225\n",
      "loss: 0.28285220027; accuracy: 0.92\n",
      "loss: 0.248891681135; accuracy: 0.9375\n",
      "loss: 0.303633820415; accuracy: 0.9075\n",
      "loss: 0.305388709605; accuracy: 0.8875\n",
      "loss: 0.267019441128; accuracy: 0.935\n",
      "loss: 0.357140682042; accuracy: 0.9075\n",
      "loss: 0.283368002176; accuracy: 0.93\n",
      "loss: 0.310324071646; accuracy: 0.9275\n",
      "loss: 0.268638872206; accuracy: 0.915\n",
      "loss: 0.29882937327; accuracy: 0.9125\n",
      "loss: 0.274264547229; accuracy: 0.9225\n"
     ]
    }
   ],
   "source": [
    "def run(model, batchsize=16, num_epochs=2):\n",
    "    \n",
    "    optimizer = chainer.optimizers.Adam() # we will use chainer's Adam implementation instead of writing our own gradient based optimization\n",
    "    optimizer.setup(model)\n",
    "    \n",
    "    stats = defaultdict(lambda: deque(maxlen=25))\n",
    "    for epoch in range(num_epochs):\n",
    "        train_iter = chainer.iterators.SerialIterator(train, batchsize, repeat=False, shuffle=True)\n",
    "        test_iter = chainer.iterators.SerialIterator(test, batchsize, repeat=False, shuffle=False)\n",
    "        \n",
    "        for itr, batch in enumerate(train_iter):\n",
    "            xs = np.concatenate([datum[0][None, :] for datum in batch])\n",
    "            ys = np.array([datum[1] for datum in batch])\n",
    "\n",
    "            logits = model(xs)\n",
    "\n",
    "            loss = F.softmax_cross_entropy(logits, ys)\n",
    "            model.cleargrads()\n",
    "            loss.backward()\n",
    "            optimizer.update()\n",
    "            \n",
    "            # calculate stats\n",
    "            stats[\"loss\"].append(float(loss.data))\n",
    "            stats[\"accuracy\"].append(float((logits.data.argmax(1) == ys).sum() / batchsize))\n",
    "            if itr % 300 == 0:\n",
    "                print(\"; \".join(\"%s: %s\" % (k, np.mean(vs)) for k, vs in stats.items()))\n",
    "\n",
    "# try a simple linear model\n",
    "run(L.Linear(None, 10))"
   ]
  },
  {
   "cell_type": "markdown",
   "metadata": {},
   "source": [
    "Next we will try to improve performance by training an MLP instead. A partial implementation is provided for you to fill in:"
   ]
  },
  {
   "cell_type": "code",
   "execution_count": 124,
   "metadata": {
    "scrolled": false
   },
   "outputs": [
    {
     "name": "stdout",
     "output_type": "stream",
     "text": [
      "loss: 2.35682153702; accuracy: 0.0\n",
      "loss: 0.39856623888; accuracy: 0.8825\n",
      "loss: 0.236901789308; accuracy: 0.93\n",
      "loss: 0.266238758862; accuracy: 0.93\n",
      "loss: 0.186166050434; accuracy: 0.945\n",
      "loss: 0.158125128746; accuracy: 0.95\n",
      "loss: 0.160870984793; accuracy: 0.9625\n",
      "loss: 0.229713762999; accuracy: 0.9375\n",
      "loss: 0.11857739985; accuracy: 0.9575\n",
      "loss: 0.126469048262; accuracy: 0.9575\n",
      "loss: 0.0953327271342; accuracy: 0.9725\n",
      "loss: 0.132153476477; accuracy: 0.9425\n",
      "loss: 0.105953772068; accuracy: 0.9675\n",
      "loss: 0.0769743618369; accuracy: 0.97\n",
      "loss: 0.115412123203; accuracy: 0.9625\n",
      "loss: 0.108732197285; accuracy: 0.965\n",
      "loss: 0.125271680951; accuracy: 0.9675\n",
      "loss: 0.0514909297228; accuracy: 0.985\n",
      "loss: 0.056084408462; accuracy: 0.985\n",
      "loss: 0.0815459048748; accuracy: 0.9725\n",
      "loss: 0.0547177165747; accuracy: 0.98\n",
      "loss: 0.100694105029; accuracy: 0.9775\n",
      "loss: 0.103309575319; accuracy: 0.9675\n",
      "loss: 0.0528174209595; accuracy: 0.9875\n",
      "loss: 0.0623274540901; accuracy: 0.98\n",
      "loss: 0.0448274868727; accuracy: 0.98\n"
     ]
    }
   ],
   "source": [
    "class MLP(chainer.Chain):\n",
    "\n",
    "    def __init__(self, n_units, n_out):\n",
    "        super(MLP, self).__init__()\n",
    "        with self.init_scope():\n",
    "            # the size of the inputs to each layer will be inferred\n",
    "            self.l1 = L.Linear(None, n_units)  # n_in -> n_units\n",
    "            self.l2 = L.Linear(None, n_units)  # n_units -> n_units\n",
    "            self.l3 = L.Linear(None, n_out)  # n_units -> n_out\n",
    "\n",
    "    def __call__(self, x):\n",
    "        # *** YOUR CODE HERE TO BUILD AN MLP W/ self.l1, self.l2, self.l3 ***\n",
    "        # \n",
    "        # Hint: you should make use of non-linearities / activation functions\n",
    "        #     https://docs.chainer.org/en/stable/reference/functions.html#activation-functions\n",
    "        l1_out = F.relu(self.l1(x))\n",
    "        l2_out = F.relu(self.l2(l1_out))\n",
    "        l3_out = self.l3(l2_out)\n",
    "        return l3_out\n",
    "run(MLP(200, 10))"
   ]
  },
  {
   "cell_type": "markdown",
   "metadata": {},
   "source": [
    "Next you should try to implement logging test loss and see if the model is overfitting."
   ]
  },
  {
   "cell_type": "code",
   "execution_count": 127,
   "metadata": {
    "scrolled": false
   },
   "outputs": [],
   "source": [
    "def better_run(model, batchsize=16, num_epochs=2):\n",
    "\n",
    "    optimizer = chainer.optimizers.Adam(alpha=0.001) # we will use chainer's Adam implementation instead of writing our own gradient based optimization\n",
    "    optimizer.setup(model)\n",
    "    \n",
    "    stats = defaultdict(lambda: deque(maxlen=25))\n",
    "    for epoch in range(num_epochs):\n",
    "        train_iter = chainer.iterators.SerialIterator(train, batchsize, repeat=False, shuffle=True)\n",
    "        for itr, batch in enumerate(train_iter):\n",
    "            xs = np.concatenate([datum[0][None, :] for datum in batch])\n",
    "            ys = np.array([datum[1] for datum in batch])\n",
    "\n",
    "            logits = model(xs)\n",
    "            \n",
    "            loss = F.softmax_cross_entropy(logits, ys)\n",
    "            model.cleargrads()\n",
    "            loss.backward()\n",
    "            optimizer.update()\n",
    "            \n",
    "            # calculate stats\n",
    "            stats[\"loss\"].append(float(loss.data))\n",
    "            stats[\"accuracy\"].append(float((logits.data.argmax(1) == ys).sum() / batchsize))\n",
    "            if itr % 300 == 0:\n",
    "                test_iter = chainer.iterators.SerialIterator(test, batchsize, repeat=False, shuffle=False)\n",
    "                # *** YOUR CODE implement logging of stats on test set ***\n",
    "                \n",
    "                xs = np.concatenate([datum[0][None, :] for datum in test])\n",
    "                ys = np.array([datum[1] for datum in test])\n",
    "                \n",
    "                logits = model(xs)\n",
    "                \n",
    "                stats[\"test_accuracy\"] = F.accuracy(logits, ys).data\n",
    "                stats[\"test_loss\"] = F.softmax_cross_entropy(logits, ys).data\n",
    "                \n",
    "                print(\"; \".join(\"%s: %s\" % (k, np.mean(vs)) for k, vs in stats.items()))\n",
    "\n"
   ]
  },
  {
   "cell_type": "code",
   "execution_count": 128,
   "metadata": {
    "scrolled": true
   },
   "outputs": [
    {
     "name": "stdout",
     "output_type": "stream",
     "text": [
      "loss: 2.25435709953; test_loss: 2.26704; accuracy: 0.1875; test_accuracy: 0.1588\n",
      "loss: 0.368879234791; test_loss: 0.384204; accuracy: 0.89; test_accuracy: 0.875\n",
      "loss: 0.20252797097; test_loss: 0.21108; accuracy: 0.9525; test_accuracy: 0.9361\n",
      "loss: 0.178844871521; test_loss: 0.202715; accuracy: 0.9425; test_accuracy: 0.9397\n",
      "loss: 0.172830124497; test_loss: 0.168134; accuracy: 0.9375; test_accuracy: 0.9483\n",
      "loss: 0.149604972601; test_loss: 0.13949; accuracy: 0.9575; test_accuracy: 0.9557\n",
      "loss: 0.134717155695; test_loss: 0.151106; accuracy: 0.955; test_accuracy: 0.9522\n",
      "loss: 0.124049921036; test_loss: 0.123661; accuracy: 0.9575; test_accuracy: 0.9606\n",
      "loss: 0.221365786791; test_loss: 0.120208; accuracy: 0.935; test_accuracy: 0.9639\n",
      "loss: 0.0736900132895; test_loss: 0.113322; accuracy: 0.9775; test_accuracy: 0.9648\n",
      "loss: 0.101555278599; test_loss: 0.123567; accuracy: 0.955; test_accuracy: 0.9612\n",
      "loss: 0.125672594607; test_loss: 0.117519; accuracy: 0.9625; test_accuracy: 0.9634\n",
      "loss: 0.148036416471; test_loss: 0.101472; accuracy: 0.95; test_accuracy: 0.9684\n",
      "loss: 0.137192389667; test_loss: 0.0957003; accuracy: 0.955; test_accuracy: 0.9695\n",
      "loss: 0.0566371309757; test_loss: 0.0886937; accuracy: 0.98; test_accuracy: 0.9731\n",
      "loss: 0.117997666895; test_loss: 0.0934768; accuracy: 0.9725; test_accuracy: 0.9701\n",
      "loss: 0.11413934797; test_loss: 0.0936114; accuracy: 0.9725; test_accuracy: 0.9722\n",
      "loss: 0.126268885434; test_loss: 0.0962735; accuracy: 0.96; test_accuracy: 0.9695\n",
      "loss: 0.0854816141725; test_loss: 0.0927243; accuracy: 0.9725; test_accuracy: 0.9713\n",
      "loss: 0.0761215031147; test_loss: 0.0888549; accuracy: 0.9725; test_accuracy: 0.972\n",
      "loss: 0.0672590377927; test_loss: 0.0912394; accuracy: 0.9825; test_accuracy: 0.9724\n",
      "loss: 0.0793710619211; test_loss: 0.0997661; accuracy: 0.965; test_accuracy: 0.9684\n",
      "loss: 0.116237151027; test_loss: 0.0859414; accuracy: 0.955; test_accuracy: 0.9725\n",
      "loss: 0.0903714725375; test_loss: 0.0940665; accuracy: 0.9625; test_accuracy: 0.9709\n",
      "loss: 0.0929903548956; test_loss: 0.100091; accuracy: 0.9625; test_accuracy: 0.9709\n",
      "loss: 0.0987829312682; test_loss: 0.0762472; accuracy: 0.9825; test_accuracy: 0.9763\n"
     ]
    }
   ],
   "source": [
    "better_run(MLP(200, 10))"
   ]
  },
  {
   "cell_type": "markdown",
   "metadata": {},
   "source": [
    "Try different variants!\n",
    "\n",
    "- Does using a ConvNet improve performance (reduce overfitting?)\n",
    "- Try changing the learning rate and observe the effect\n",
    "- Does the model train if you give it correlated gradients? (consecutively sample many batches of \"1\", then many batches of \"2\", ... etc"
   ]
  },
  {
   "cell_type": "code",
   "execution_count": 129,
   "metadata": {},
   "outputs": [
    {
     "name": "stdout",
     "output_type": "stream",
     "text": [
      "loss: 2.30296254158; test_loss: 2.35018; accuracy: 0.1875; test_accuracy: 0.0958\n",
      "loss: 0.264872016907; test_loss: 0.211628; accuracy: 0.91; test_accuracy: 0.9371\n",
      "loss: 0.165340489745; test_loss: 0.141135; accuracy: 0.95; test_accuracy: 0.9581\n",
      "loss: 0.100730526745; test_loss: 0.0897709; accuracy: 0.975; test_accuracy: 0.9723\n",
      "loss: 0.0893290087581; test_loss: 0.0656373; accuracy: 0.965; test_accuracy: 0.9807\n",
      "loss: 0.0803040158749; test_loss: 0.0596709; accuracy: 0.9675; test_accuracy: 0.9802\n",
      "loss: 0.145497685075; test_loss: 0.103534; accuracy: 0.955; test_accuracy: 0.9676\n",
      "loss: 0.127308933735; test_loss: 0.0633357; accuracy: 0.9625; test_accuracy: 0.9796\n",
      "loss: 0.0817392128706; test_loss: 0.0518873; accuracy: 0.98; test_accuracy: 0.9827\n",
      "loss: 0.0768959534168; test_loss: 0.0582979; accuracy: 0.9825; test_accuracy: 0.9819\n",
      "loss: 0.0581202608347; test_loss: 0.0384352; accuracy: 0.98; test_accuracy: 0.9877\n",
      "loss: 0.0600299975276; test_loss: 0.0690346; accuracy: 0.98; test_accuracy: 0.9786\n",
      "loss: 0.0304672992229; test_loss: 0.0373469; accuracy: 0.9925; test_accuracy: 0.9872\n",
      "loss: 0.0522900623083; test_loss: 0.0482225; accuracy: 0.985; test_accuracy: 0.9841\n",
      "loss: 0.0653583940864; test_loss: 0.0411654; accuracy: 0.9775; test_accuracy: 0.9872\n",
      "loss: 0.0203593170643; test_loss: 0.038305; accuracy: 0.995; test_accuracy: 0.9875\n",
      "loss: 0.0483284199238; test_loss: 0.0527158; accuracy: 0.98; test_accuracy: 0.9827\n",
      "loss: 0.0621508044004; test_loss: 0.0412877; accuracy: 0.985; test_accuracy: 0.9869\n",
      "loss: 0.0576394295692; test_loss: 0.0507332; accuracy: 0.985; test_accuracy: 0.9829\n",
      "loss: 0.0835744798183; test_loss: 0.0353812; accuracy: 0.9725; test_accuracy: 0.988\n",
      "loss: 0.0512638100982; test_loss: 0.0377585; accuracy: 0.9925; test_accuracy: 0.9879\n",
      "loss: 0.0313413530588; test_loss: 0.0322479; accuracy: 0.99; test_accuracy: 0.9903\n",
      "loss: 0.034474991858; test_loss: 0.0414665; accuracy: 0.9875; test_accuracy: 0.9843\n",
      "loss: 0.0218159466982; test_loss: 0.0342505; accuracy: 0.99; test_accuracy: 0.9897\n",
      "loss: 0.0194795244932; test_loss: 0.041612; accuracy: 0.9975; test_accuracy: 0.9867\n",
      "loss: 0.0384312528372; test_loss: 0.037857; accuracy: 0.985; test_accuracy: 0.9876\n"
     ]
    }
   ],
   "source": [
    "class Conv2D(chainer.Chain):\n",
    "\n",
    "    def __init__(self):\n",
    "        super(Conv2D, self).__init__()\n",
    "        with self.init_scope():\n",
    "            # the size of the inputs to each layer will be inferred\n",
    "            \n",
    "            self.l1 = L.Convolution2D(1, 10, ksize=(3,3), stride=1, pad=1)\n",
    "            self.l2 = L.Convolution2D(10, 20, ksize=(3,3), stride=1, pad=1)\n",
    "            self.l3 = L.Convolution2D(20, 30, ksize=(3,3), stride=1, pad=1)\n",
    "            self.fc1 = L.Linear(None, 125)\n",
    "            self.fc2 = L.Linear(None, 25)\n",
    "            self.fc3 = L.Linear(None, 10)\n",
    "\n",
    "    def __call__(self, x):\n",
    "        x = x.reshape(x.shape[0], 1, 28, 28) #convert back to image\n",
    "#         print(x.shape)\n",
    "        l1_out = F.max_pooling_2d(F.relu(self.l1(x)), 3, stride=2)\n",
    "        l2_out = F.max_pooling_2d(F.relu(self.l2(l1_out)), 3, stride=2)\n",
    "        l3_out = F.max_pooling_2d(F.relu(self.l3(l2_out)), 3, stride=2)\n",
    "#         print(l3_out.shape)\n",
    "        out = F.relu(self.fc1(l3_out))\n",
    "        out = F.relu(self.fc2(out))\n",
    "        out = self.fc3(out)\n",
    "\n",
    "#         print(out.shape)\n",
    "        return out\n",
    "\n",
    "# x = np.random.uniform(0, 1, (16, 1, 64, 64)).astype('f')\n",
    "# x = np.random.uniform(0, 1, (16, 784)).astype('f')\n",
    "# conv2d = Conv2D()\n",
    "# logits = conv2d(x)\n",
    "# print(logits.shape)\n",
    "better_run(Conv2D())"
   ]
  }
 ],
 "metadata": {
  "kernelspec": {
   "display_name": "Python 3",
   "language": "python",
   "name": "python3"
  },
  "language_info": {
   "codemirror_mode": {
    "name": "ipython",
    "version": 3
   },
   "file_extension": ".py",
   "mimetype": "text/x-python",
   "name": "python",
   "nbconvert_exporter": "python",
   "pygments_lexer": "ipython3",
   "version": "3.5.3"
  }
 },
 "nbformat": 4,
 "nbformat_minor": 1
}
