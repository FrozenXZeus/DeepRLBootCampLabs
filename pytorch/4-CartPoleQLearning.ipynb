{
 "cells": [
  {
   "cell_type": "markdown",
   "metadata": {},
   "source": [
    "https://github.com/openai/gym/wiki/CartPole-v0"
   ]
  },
  {
   "cell_type": "code",
   "execution_count": 1,
   "metadata": {
    "collapsed": true
   },
   "outputs": [],
   "source": [
    "import gym\n",
    "import numpy as np"
   ]
  },
  {
   "cell_type": "code",
   "execution_count": 3,
   "metadata": {},
   "outputs": [
    {
     "name": "stderr",
     "output_type": "stream",
     "text": [
      "[2018-01-13 00:17:47,910] Making new env: CartPole-v0\n"
     ]
    },
    {
     "name": "stdout",
     "output_type": "stream",
     "text": [
      "[ 0.0478068   0.01713647  0.00041999 -0.03984694]\n",
      "0\n",
      "None\n",
      "[ 0.04814953 -0.1779915  -0.00037695  0.25296847]\n",
      "0\n",
      "None\n",
      "[ 0.0445897  -0.37310807  0.00468242  0.54553248]\n",
      "0\n",
      "None\n",
      "[ 0.03712753 -0.5682955   0.01559307  0.83968704]\n",
      "0\n",
      "None\n",
      "[ 0.02576162 -0.76362684  0.03238681  1.13723261]\n",
      "1\n",
      "None\n",
      "[ 0.01048909 -0.56894312  0.05513146  0.85488022]\n",
      "0\n",
      "None\n",
      "[ -8.89774618e-04  -7.64771340e-01   7.22290654e-02   1.16437669e+00]\n",
      "1\n",
      "None\n",
      "[-0.0161852  -0.57066018  0.0955166   0.89518601]\n",
      "1\n",
      "None\n",
      "[-0.0275984  -0.37695411  0.11342032  0.63399056]\n",
      "0\n",
      "None\n",
      "[-0.03513749 -0.57346021  0.12610013  0.96012994]\n",
      "0\n",
      "None\n",
      "[-0.04660669 -0.7700309   0.14530273  1.28962006]\n",
      "1\n",
      "None\n",
      "[-0.06200731 -0.57702473  0.17109513  1.04573046]\n",
      "1\n",
      "None\n",
      "[-0.0735478  -0.38453558  0.19200974  0.81126947]\n",
      "1\n",
      "None\n",
      "[-0.08123852 -0.19248934  0.20823513  0.58459869]\n",
      "1\n",
      "None\n",
      "Episode finished after 14 timesteps\n"
     ]
    }
   ],
   "source": [
    "import time\n",
    "\n",
    "env = gym.make('CartPole-v0')\n",
    "for i_episode in range(1):\n",
    "    observation = env.reset()\n",
    "    for t in range(100):\n",
    "        env.render()\n",
    "        print(observation)\n",
    "        action = env.action_space.sample()\n",
    "        print(action)\n",
    "        print(time.sleep(0.1))\n",
    "        observation, reward, done, info = env.step(action)\n",
    "        if done:\n",
    "            print(\"Episode finished after {} timesteps\".format(t+1))\n",
    "            break\n",
    "env.close()"
   ]
  },
  {
   "cell_type": "code",
   "execution_count": 7,
   "metadata": {},
   "outputs": [
    {
     "name": "stdout",
     "output_type": "stream",
     "text": [
      "Discrete(2)\n",
      "Box(4,)\n",
      "[  4.80000000e+00   3.40282347e+38   4.18879020e-01   3.40282347e+38]\n",
      "[ -4.80000000e+00  -3.40282347e+38  -4.18879020e-01  -3.40282347e+38]\n"
     ]
    }
   ],
   "source": [
    "print(env.action_space)\n",
    "print(env.observation_space)\n",
    "print(env.observation_space.high)\n",
    "print(env.observation_space.low)"
   ]
  },
  {
   "cell_type": "code",
   "execution_count": 4,
   "metadata": {},
   "outputs": [
    {
     "name": "stdout",
     "output_type": "stream",
     "text": [
      "[-4.8        -3.92727273 -3.05454545 -2.18181818 -1.30909091 -0.43636364\n",
      "  0.43636364  1.30909091  2.18181818  3.05454545  3.92727273  4.8       ]\n",
      "[ 3  6  1 11  8]\n",
      "4\n",
      "[array([-4.8       , -3.42857143, -2.05714286, -0.68571429,  0.68571429,\n",
      "        2.05714286,  3.42857143,  4.8       ]), array([ -3.40282347e+38,  -2.43058819e+38,  -1.45835291e+38,\n",
      "        -4.86117638e+37,   4.86117638e+37,   1.45835291e+38,\n",
      "         2.43058819e+38,   3.40282347e+38]), array([-0.41887902, -0.2991993 , -0.17951958, -0.05983986,  0.05983986,\n",
      "        0.17951958,  0.2991993 ,  0.41887902]), array([ -3.40282347e+38,  -2.43058819e+38,  -1.45835291e+38,\n",
      "        -4.86117638e+37,   4.86117638e+37,   1.45835291e+38,\n",
      "         2.43058819e+38,   3.40282347e+38])]\n"
     ]
    }
   ],
   "source": [
    "x = np.array([-2.4, 0, -4.0, 4, 2])\n",
    "bins = np.linspace(-4.8, 4.8, 12)\n",
    "out = np.digitize(x, bins)\n",
    "print(bins)\n",
    "print(out)\n",
    "\n",
    "a = [np.linspace(env.observation_space.low[i], env.observation_space.high[i], 8) for i in range(4)]\n",
    "\n",
    "print(len(a))\n",
    "print(a)"
   ]
  },
  {
   "cell_type": "code",
   "execution_count": 346,
   "metadata": {
    "collapsed": true
   },
   "outputs": [],
   "source": [
    "import matplotlib\n",
    "import matplotlib.pyplot as plt\n",
    "%matplotlib inline\n",
    "import time\n",
    "import unittest\n",
    "import math\n",
    "\n",
    "\n",
    "# env = gym.make('CartPole-v0')\n",
    "# env.reset()\n",
    "\n",
    "\n",
    "# Qlearner for CartPole\n",
    "class QLearner():\n",
    "    def __init__(self, env):\n",
    "        self.env = env\n",
    "        self.epsilon_start = 0.1 # 1-epsilon probability of selecting best action\n",
    "        self.epsilon_end = 0.99 # final epsilon value\n",
    "        self.epsilon_decay = 5000 # steps before epsilon reaches epsilon_end\n",
    "        self.epsilon_step = 0 #step tracker\n",
    "        self.alpha = 0.01\n",
    "        self.gamma = 0.99\n",
    "        \n",
    "        # get initial state, divide continuous states into discrete bins\n",
    "#         self.bins = [np.linspace(env.observation_space.low[i], env.observation_space.high[i], 7) for i in range(4)]\n",
    "        self.bins = []\n",
    "        self.bins.append(np.linspace(-2.4, 2.4, 1))\n",
    "        self.bins.append(np.linspace(-0.5, 0.5, 1))\n",
    "        self.bins.append(np.linspace(-41.8, 41.8, 5))\n",
    "        self.bins.append(np.linspace(-math.radians(50), math.radians(50), 3))\n",
    "        self.reset()\n",
    "        \n",
    "        #initialize Q\n",
    "        self.Q = np.zeros((2, 2, 6, 4, 2))\n",
    "#         print(self.bins)\n",
    "\n",
    "        self.episode_durations = []\n",
    "        \n",
    "    \n",
    "    def getQ(self, s, action):\n",
    "        return self.Q[s[0], s[1], s[2], s[3], action]\n",
    "    \n",
    "    \n",
    "    def setQ(self, s, s_plus1, action, r):\n",
    "#         print(\"Setting Q: \")\n",
    "#         print(\"s: \", s, \"s_plus1: \", s_plus1, \" action: \", action, \" r: \", r)\n",
    "#         print(\"s:\", s[0], s[1], s[2], s[3], \"action: \", action)\n",
    "        q = self.getQ(s, action)\n",
    "        max_q_splus1 = np.max(self.Q[s_plus1[0], s_plus1[1], s_plus1[2], s_plus1[3]])\n",
    "#         print(\"q: \", q, \" max_q_splus1: \", max_q_splus1)\n",
    "        new_q = q + self.alpha * (r + self.gamma * max_q_splus1 - q)\n",
    "\n",
    "#         print(\"new q: \", new_q, \" position: \", s[0], s[1], s[2], s[3], action)\n",
    "        self.Q[s[0], s[1], s[2], s[3], action] = new_q\n",
    "    \n",
    "    def get_best_action(self, s):\n",
    "        return np.argmax(self.Q[s[0], s[1], s[2], s[3]])\n",
    "    \n",
    "    def get_epsilon(self):\n",
    "        return min(self.epsilon_end, self.epsilon_start + \n",
    "                      self.epsilon_step / self.epsilon_decay * (self.epsilon_end - self.epsilon_start))\n",
    "    \n",
    "    def get_training_action(self):\n",
    "        epsilon = self.get_epsilon()\n",
    "\n",
    "        if np.random.rand() >= epsilon:\n",
    "            action = self.env.action_space.sample()\n",
    "        else:\n",
    "            action = self.get_best_action(self.s_bins)\n",
    "        \n",
    "        self.epsilon_step += 1\n",
    "        return action\n",
    "    \n",
    "    def reset(self):\n",
    "        self.s = env.reset()\n",
    "        self.s_bins = [np.digitize(self.s[i], self.bins[i]) for i in range(4)]\n",
    "        self.s_bins[0] = 0\n",
    "        self.s_bins[1] = 0\n",
    "    \n",
    "    def step(self, action, training=False):\n",
    "        s_plus1, r, done, _ = self.env.step(action)\n",
    "#         print(\"s0:\", self.s)\n",
    "#         print(\"s1:\", s_plus1)\n",
    "#         print(\"velocity:\", s_plus1[3])\n",
    "        s_bins = [np.digitize(s_plus1[i], self.bins[i]) for i in range(4)]\n",
    "        s_bins[0] = 0\n",
    "        s_bins[1] = 0\n",
    "#         if training:\n",
    "        self.setQ(self.s_bins, s_bins, action, r)\n",
    "            \n",
    "        self.s_bins = s_bins\n",
    "        \n",
    "        return r, done\n",
    "    \n",
    "    def train(self, nb_episodes=2):\n",
    "        \n",
    "        for episode in range(nb_episodes):\n",
    "            self.reset()\n",
    "            episode_reward = 0\n",
    "            \n",
    "            while True:\n",
    "                action = self.get_training_action()\n",
    "                r, done = self.step(action, training=True)\n",
    "                episode_reward += r\n",
    "                \n",
    "                if done:\n",
    "                    break;\n",
    "            self.episode_durations.append(episode_reward + 1)\n",
    "#             self.plot_durations()            \n",
    "#             print(\"Episode reward: \", episode_reward)\n",
    "\n",
    "    def run(self):\n",
    "        self.reset()\n",
    "        self.env.render()\n",
    "        episode_reward = 0\n",
    "        while True:\n",
    "            self.env.render()\n",
    "            action = self.get_best_action(self.s_bins)\n",
    "            r, done = self.step(action)\n",
    "            episode_reward += r\n",
    "#             time.sleep(0.1)\n",
    "            if done:\n",
    "                break;\n",
    "        \n",
    "        self.env.render(close=True)\n",
    "        print(\"Total Reward: \", episode_reward)\n",
    "            \n",
    "#     def plot_durations(self):\n",
    "#         plt.figure(2)\n",
    "#         plt.clf()\n",
    "# #         durations_t = torch.FloatTensor(episode_durations)\n",
    "#         plt.title('Training...')\n",
    "#         plt.xlabel('Episode')\n",
    "#         plt.ylabel('Duration')\n",
    "#         plt.plot(self.episode_durations)\n",
    "#         # Take 100 episode averages and plot them too\n",
    "# #         if len(durations_t) >= 100:\n",
    "# #             means = durations_t.unfold(0, 100, 1).mean(1).view(-1)\n",
    "# #             means = torch.cat((torch.zeros(99), means))\n",
    "# #             plt.plot(means.numpy())\n",
    "\n",
    "#         plt.pause(0.001)  # pause a bit so that plots are updated\n",
    "#         if is_ipython:\n",
    "#             display.clear_output(wait=True)\n",
    "#             display.display(plt.gcf())\n",
    "\n",
    "\n",
    "class TestQlearner(unittest.TestCase):\n",
    "    def setUp(self):\n",
    "        env = gym.make('CartPole-v0')\n",
    "        self.qlearner = QLearner(env)\n",
    "\n",
    "    def test_setQ(self):\n",
    "        self.qlearner.setQ([4, 4, 4, 4], [4, 4, 4, 5], 1, 1)\n",
    "        self.assertEqual(self.qlearner.getQ([4, 4, 4, 4], 1), 0.01)\n",
    "        \n",
    "        print(' ')\n",
    "        self.qlearner.setQ([4, 4, 4, 5], [4, 4, 4, 4], 0, 1)\n",
    "        newQ = self.qlearner.getQ([4, 4, 4, 5], 0)\n",
    "        self.assertEqual(newQ, 0.010099)\n",
    "        \n",
    "        \n",
    "    def runTest(self):\n",
    "        self.test_setQ()\n",
    "        \n",
    "\n",
    "\n",
    "\n",
    "# tester = TestQlearner()\n",
    "# tester.debug()\n"
   ]
  },
  {
   "cell_type": "code",
   "execution_count": 353,
   "metadata": {},
   "outputs": [
    {
     "name": "stderr",
     "output_type": "stream",
     "text": [
      "[2018-01-08 23:15:21,460] Making new env: CartPole-v0\n"
     ]
    },
    {
     "data": {
      "text/plain": [
       "[<matplotlib.lines.Line2D at 0x7fc6a4cb4c50>]"
      ]
     },
     "execution_count": 353,
     "metadata": {},
     "output_type": "execute_result"
    },
    {
     "data": {
      "image/png": "[encoded data removed]",
      "text/plain": [
       "<matplotlib.figure.Figure at 0x7fc6a4d4c668>"
      ]
     },
     "metadata": {},
     "output_type": "display_data"
    }
   ],
   "source": [
    "env = gym.make('CartPole-v0')\n",
    "qlearner = QLearner(env)\n",
    "\n",
    "qlearner.train(nb_episodes=500)\n",
    "plt.figure(2)\n",
    "plt.clf()\n",
    "plt.title('Training...')\n",
    "plt.xlabel('Episode')\n",
    "plt.ylabel('Duration')\n",
    "plt.plot(qlearner.episode_durations)\n",
    "\n"
   ]
  },
  {
   "cell_type": "code",
   "execution_count": 309,
   "metadata": {},
   "outputs": [
    {
     "name": "stdout",
     "output_type": "stream",
     "text": [
      "Total Reward:  150.0\n"
     ]
    }
   ],
   "source": [
    "# env.close()\n",
    "qlearner.run()\n",
    "# env.close()"
   ]
  },
  {
   "cell_type": "code",
   "execution_count": 283,
   "metadata": {},
   "outputs": [
    {
     "data": {
      "text/plain": [
       "array([ 42.86020243,  76.54825018])"
      ]
     },
     "execution_count": 283,
     "metadata": {},
     "output_type": "execute_result"
    }
   ],
   "source": [
    "qlearner.Q[0, 0, 3, 2]"
   ]
  },
  {
   "cell_type": "code",
   "execution_count": 232,
   "metadata": {},
   "outputs": [
    {
     "name": "stdout",
     "output_type": "stream",
     "text": [
      "0.99 10737\n"
     ]
    }
   ],
   "source": [
    "# qlearner.Q[3:6, 3:6, 3:6, 3:6]\n",
    "print(qlearner.get_epsilon(), qlearner.epsilon_step)"
   ]
  },
  {
   "cell_type": "code",
   "execution_count": null,
   "metadata": {
    "collapsed": true
   },
   "outputs": [],
   "source": [
    "start = 0.1\n",
    "end = 0.95\n",
    "decay = 10\n",
    "step = 11\n",
    "\n",
    "epsilon = min(end, start + step / decay * (end - start))\n",
    "print(epsilon)"
   ]
  },
  {
   "cell_type": "code",
   "execution_count": 224,
   "metadata": {},
   "outputs": [
    {
     "data": {
      "text/plain": [
       "array([-100.,  100.])"
      ]
     },
     "execution_count": 224,
     "metadata": {},
     "output_type": "execute_result"
    }
   ],
   "source": [
    "np.linspace(-100, 100, 2)"
   ]
  },
  {
   "cell_type": "markdown",
   "metadata": {},
   "source": [
    "# The above doesn't seem right, have to reduce dimension significantly\n",
    "## which means it requiers n-step bootstrapping rather than 1 step or we'll have to use a rollout "
   ]
  },
  {
   "cell_type": "code",
   "execution_count": 50,
   "metadata": {},
   "outputs": [
    {
     "name": "stderr",
     "output_type": "stream",
     "text": [
      "[2018-01-13 00:53:49,639] Making new env: CartPole-v0\n"
     ]
    },
    {
     "name": "stdout",
     "output_type": "stream",
     "text": [
      "{(4, 4, 4, 5): [0, 0], (4, 4, 4, 4): [0, 0.01]}\n",
      " \n",
      "{(4, 4, 4, 5): [0.010099, 0], (4, 4, 4, 4): [0, 0.01]}\n"
     ]
    }
   ],
   "source": [
    "import matplotlib\n",
    "import matplotlib.pyplot as plt\n",
    "%matplotlib inline\n",
    "import time\n",
    "import unittest\n",
    "import math\n",
    "\n",
    "\n",
    "# env = gym.make('CartPole-v0')\n",
    "# env.reset()\n",
    "\n",
    "\n",
    "# Qlearner for CartPole\n",
    "class QLearner():\n",
    "    def __init__(self, env):\n",
    "        self.env = env\n",
    "        self.epsilon_start = 1. # 1-epsilon probability of selecting best action. The epsilon is the greedy\n",
    "        self.epsilon_end = 0.05 # final epsilon value\n",
    "        self.epsilon_decay = 500 # steps before epsilon reaches epsilon_end\n",
    "        self.epsilon_step = 0 #step tracker\n",
    "        self.alpha = 0.1\n",
    "        self.gamma = 0.99\n",
    "        \n",
    "        # get initial state, divide continuous states into discrete bins\n",
    "#         self.bins = [np.linspace(env.observation_space.low[i], env.observation_space.high[i], 7) for i in range(4)]\n",
    "        self.bins = []\n",
    "        self.bins.append(np.linspace(-2.4, 2.4, 5))\n",
    "        self.bins.append(np.linspace(-0.5, 0.5, 5))\n",
    "        self.bins.append(np.linspace(-41.8, 41.8, 5))\n",
    "        self.bins.append(np.linspace(-math.radians(50), math.radians(50), 5))\n",
    "        self.reset()\n",
    "        \n",
    "        #initialize Q\n",
    "#         self.Q = np.zeros((20, 20, 20, 20, 2))\n",
    "        self.Q = {}\n",
    "#         print(self.bins)\n",
    "\n",
    "        self.episode_durations = []\n",
    "        \n",
    "    \n",
    "    def getQ(self, s, action=None):\n",
    "#         return self.Q[s[0], s[1], s[2], s[3], action]\n",
    "#         print('getQ:', s, action)\n",
    "        if not s in self.Q:\n",
    "            self.Q[s] = [0, 0]\n",
    "\n",
    "        if action is not None:\n",
    "            return self.Q[s][action]\n",
    "        else:\n",
    "            return self.Q[s]\n",
    "    \n",
    "    \n",
    "    def setQ(self, s, s_plus1, action, r):\n",
    "#         print(\"Setting Q: \")\n",
    "#         print(\"s: \", s, \"s_plus1: \", s_plus1, \" action: \", action, \" r: \", r)\n",
    "#         print(\"s:\", s[0], s[1], s[2], s[3], \"action: \", action)\n",
    "\n",
    "        q = self.getQ(s, action)\n",
    "        \n",
    "        max_q_splus1 = np.max(self.getQ(s_plus1))\n",
    "#         print(\"q: \", q, \" max_q_splus1: \", max_q_splus1)\n",
    "        new_q = q + self.alpha * (r + self.gamma * max_q_splus1 - q)\n",
    "\n",
    "        self.Q[s][action] = new_q\n",
    "    \n",
    "    def get_best_action(self, s):\n",
    "        return np.argmax(self.getQ(s))\n",
    "    \n",
    "    def get_epsilon(self):\n",
    "        return max(self.epsilon_end, self.epsilon_start + \n",
    "                      self.epsilon_step / self.epsilon_decay * (self.epsilon_end - self.epsilon_start))\n",
    "    \n",
    "    def get_training_action(self):\n",
    "        epsilon = self.get_epsilon()\n",
    "\n",
    "        if np.random.rand() >= epsilon:\n",
    "            action = self.get_best_action(self.s)\n",
    "        else:\n",
    "            action = self.env.action_space.sample()\n",
    "        \n",
    "        self.epsilon_step += 1\n",
    "        return action\n",
    "    \n",
    "    def reset(self):\n",
    "        s = env.reset()\n",
    "        self.s = tuple([np.asscalar(np.digitize(s[i], self.bins[i])) for i in range(4)])\n",
    "    \n",
    "    def step(self, action, training=False, step=0):\n",
    "        observation, r, done, _ = self.env.step(action)\n",
    "#         print(\"s0:\", self.s)\n",
    "#         print(\"s1:\", s_plus1)\n",
    "#         print(\"velocity:\", s_plus1[3])\n",
    "        s_plus1 = tuple([np.asscalar(np.digitize(observation[i], self.bins[i])) for i in range(4)])\n",
    "        \n",
    "        if training and done and step < 200:\n",
    "            r = -100\n",
    "        \n",
    "        self.setQ(self.s, s_plus1, action, r)\n",
    "            \n",
    "        self.s = s_plus1\n",
    "        \n",
    "        return r, done\n",
    "    \n",
    "    def train(self, nb_episodes=2):\n",
    "        \n",
    "        for episode in range(nb_episodes):\n",
    "            self.reset()\n",
    "            episode_reward = 0\n",
    "            \n",
    "            while True:\n",
    "                action = self.get_training_action()\n",
    "                r, done = self.step(action, training=True, step=episode_reward+1)\n",
    "                                \n",
    "                episode_reward += r\n",
    "                \n",
    "                if done:\n",
    "                    break;\n",
    "            self.episode_durations.append(episode_reward + 1)\n",
    "#             self.plot_durations()            \n",
    "            print(\"Episode %d reward: %d epsilon: %.4f\" % (episode, episode_reward, self.get_epsilon()))\n",
    "\n",
    "    def run(self):\n",
    "        self.reset()\n",
    "        self.env.render()\n",
    "        episode_reward = 0\n",
    "        while True:\n",
    "            self.env.render()\n",
    "            action = self.get_best_action(self.s)\n",
    "            r, done = self.step(action)\n",
    "            episode_reward += r\n",
    "#             time.sleep(0.1)\n",
    "            if done:\n",
    "                break;\n",
    "        \n",
    "        self.env.render(close=True)\n",
    "        print(\"Total Reward: \", episode_reward)\n",
    "        \n",
    "class TestQlearner(unittest.TestCase):\n",
    "    def setUp(self):\n",
    "        env = gym.make('CartPole-v0')\n",
    "        self.qlearner = QLearner(env)\n",
    "        self.qlearner.alpha = 0.01\n",
    "        self.qlearner.gamma = 0.99\n",
    "\n",
    "    def test_setQ(self):\n",
    "        self.qlearner.setQ((4, 4, 4, 4), (4, 4, 4, 5), 1, 1)\n",
    "        print(self.qlearner.Q)\n",
    "        self.assertEqual(self.qlearner.getQ((4, 4, 4, 4), 1), 0.01)\n",
    "        \n",
    "        print(' ')\n",
    "        self.qlearner.setQ((4, 4, 4, 5), (4, 4, 4, 4), 0, 1)\n",
    "        print(self.qlearner.Q)\n",
    "        newQ = self.qlearner.getQ((4, 4, 4, 5), 0)\n",
    "        self.assertEqual(newQ, 0.010099)\n",
    "        \n",
    "        \n",
    "    def runTest(self):\n",
    "        self.test_setQ()\n",
    "        \n",
    "\n",
    "tester = TestQlearner()\n",
    "tester.debug()\n"
   ]
  },
  {
   "cell_type": "code",
   "execution_count": 51,
   "metadata": {},
   "outputs": [
    {
     "name": "stderr",
     "output_type": "stream",
     "text": [
      "[2018-01-13 00:53:50,059] Making new env: CartPole-v0\n"
     ]
    },
    {
     "name": "stdout",
     "output_type": "stream",
     "text": [
      "Episode 0 reward: -81 epsilon: 0.9620\n",
      "Episode 1 reward: -70 epsilon: 0.9031\n",
      "Episode 2 reward: -77 epsilon: 0.8575\n",
      "Episode 3 reward: -60 epsilon: 0.7796\n",
      "Episode 4 reward: -87 epsilon: 0.7530\n",
      "Episode 5 reward: -61 epsilon: 0.6770\n",
      "Episode 6 reward: -82 epsilon: 0.6409\n",
      "Episode 7 reward: -27 epsilon: 0.5003\n",
      "Episode 8 reward: -53 epsilon: 0.4091\n",
      "Episode 9 reward: -38 epsilon: 0.2894\n",
      "Episode 10 reward: -58 epsilon: 0.2077\n",
      "Episode 11 reward: -51 epsilon: 0.1127\n",
      "Episode 12 reward: -29 epsilon: 0.0500\n",
      "Episode 13 reward: -58 epsilon: 0.0500\n",
      "Episode 14 reward: -54 epsilon: 0.0500\n",
      "Episode 15 reward: 5 epsilon: 0.0500\n",
      "Episode 16 reward: -20 epsilon: 0.0500\n",
      "Episode 17 reward: -20 epsilon: 0.0500\n",
      "Episode 18 reward: -50 epsilon: 0.0500\n",
      "Episode 19 reward: -16 epsilon: 0.0500\n",
      "Episode 20 reward: 28 epsilon: 0.0500\n",
      "Episode 21 reward: 200 epsilon: 0.0500\n",
      "Episode 22 reward: -69 epsilon: 0.0500\n",
      "Episode 23 reward: 57 epsilon: 0.0500\n",
      "Episode 24 reward: -43 epsilon: 0.0500\n",
      "Episode 25 reward: 200 epsilon: 0.0500\n",
      "Episode 26 reward: 74 epsilon: 0.0500\n",
      "Episode 27 reward: 46 epsilon: 0.0500\n",
      "Episode 28 reward: 30 epsilon: 0.0500\n",
      "Episode 29 reward: -30 epsilon: 0.0500\n",
      "Episode 30 reward: 5 epsilon: 0.0500\n",
      "Episode 31 reward: -65 epsilon: 0.0500\n",
      "Episode 32 reward: -45 epsilon: 0.0500\n",
      "Episode 33 reward: 19 epsilon: 0.0500\n",
      "Episode 34 reward: -38 epsilon: 0.0500\n",
      "Episode 35 reward: -30 epsilon: 0.0500\n",
      "Episode 36 reward: 23 epsilon: 0.0500\n",
      "Episode 37 reward: 11 epsilon: 0.0500\n",
      "Episode 38 reward: 200 epsilon: 0.0500\n",
      "Episode 39 reward: 21 epsilon: 0.0500\n",
      "Episode 40 reward: -18 epsilon: 0.0500\n",
      "Episode 41 reward: 63 epsilon: 0.0500\n",
      "Episode 42 reward: -8 epsilon: 0.0500\n",
      "Episode 43 reward: 21 epsilon: 0.0500\n",
      "Episode 44 reward: -15 epsilon: 0.0500\n",
      "Episode 45 reward: 200 epsilon: 0.0500\n",
      "Episode 46 reward: -48 epsilon: 0.0500\n",
      "Episode 47 reward: 13 epsilon: 0.0500\n",
      "Episode 48 reward: 35 epsilon: 0.0500\n",
      "Episode 49 reward: -4 epsilon: 0.0500\n",
      "Episode 50 reward: 200 epsilon: 0.0500\n",
      "Episode 51 reward: -20 epsilon: 0.0500\n",
      "Episode 52 reward: 200 epsilon: 0.0500\n",
      "Episode 53 reward: -45 epsilon: 0.0500\n",
      "Episode 54 reward: 77 epsilon: 0.0500\n",
      "Episode 55 reward: 50 epsilon: 0.0500\n",
      "Episode 56 reward: 200 epsilon: 0.0500\n",
      "Episode 57 reward: -39 epsilon: 0.0500\n",
      "Episode 58 reward: 33 epsilon: 0.0500\n",
      "Episode 59 reward: 63 epsilon: 0.0500\n",
      "Episode 60 reward: 94 epsilon: 0.0500\n",
      "Episode 61 reward: 14 epsilon: 0.0500\n",
      "Episode 62 reward: -68 epsilon: 0.0500\n",
      "Episode 63 reward: 20 epsilon: 0.0500\n",
      "Episode 64 reward: 200 epsilon: 0.0500\n",
      "Episode 65 reward: 200 epsilon: 0.0500\n",
      "Episode 66 reward: 97 epsilon: 0.0500\n",
      "Episode 67 reward: 57 epsilon: 0.0500\n",
      "Episode 68 reward: 60 epsilon: 0.0500\n",
      "Episode 69 reward: 55 epsilon: 0.0500\n",
      "Episode 70 reward: -15 epsilon: 0.0500\n",
      "Episode 71 reward: 31 epsilon: 0.0500\n",
      "Episode 72 reward: -20 epsilon: 0.0500\n",
      "Episode 73 reward: -4 epsilon: 0.0500\n",
      "Episode 74 reward: 24 epsilon: 0.0500\n",
      "Episode 75 reward: -13 epsilon: 0.0500\n",
      "Episode 76 reward: 200 epsilon: 0.0500\n",
      "Episode 77 reward: 200 epsilon: 0.0500\n",
      "Episode 78 reward: 200 epsilon: 0.0500\n",
      "Episode 79 reward: 200 epsilon: 0.0500\n",
      "Episode 80 reward: 200 epsilon: 0.0500\n",
      "Episode 81 reward: 24 epsilon: 0.0500\n",
      "Episode 82 reward: -5 epsilon: 0.0500\n",
      "Episode 83 reward: 57 epsilon: 0.0500\n",
      "Episode 84 reward: -29 epsilon: 0.0500\n",
      "Episode 85 reward: 39 epsilon: 0.0500\n",
      "Episode 86 reward: 200 epsilon: 0.0500\n",
      "Episode 87 reward: 200 epsilon: 0.0500\n",
      "Episode 88 reward: 43 epsilon: 0.0500\n",
      "Episode 89 reward: -38 epsilon: 0.0500\n",
      "Episode 90 reward: 200 epsilon: 0.0500\n",
      "Episode 91 reward: 26 epsilon: 0.0500\n",
      "Episode 92 reward: 200 epsilon: 0.0500\n",
      "Episode 93 reward: 32 epsilon: 0.0500\n",
      "Episode 94 reward: 15 epsilon: 0.0500\n",
      "Episode 95 reward: 51 epsilon: 0.0500\n",
      "Episode 96 reward: 21 epsilon: 0.0500\n",
      "Episode 97 reward: 94 epsilon: 0.0500\n",
      "Episode 98 reward: -19 epsilon: 0.0500\n",
      "Episode 99 reward: -56 epsilon: 0.0500\n",
      "Episode 100 reward: 29 epsilon: 0.0500\n",
      "Episode 101 reward: 82 epsilon: 0.0500\n",
      "Episode 102 reward: 17 epsilon: 0.0500\n",
      "Episode 103 reward: 33 epsilon: 0.0500\n",
      "Episode 104 reward: 68 epsilon: 0.0500\n",
      "Episode 105 reward: 59 epsilon: 0.0500\n",
      "Episode 106 reward: -51 epsilon: 0.0500\n",
      "Episode 107 reward: 11 epsilon: 0.0500\n",
      "Episode 108 reward: -8 epsilon: 0.0500\n",
      "Episode 109 reward: 40 epsilon: 0.0500\n",
      "Episode 110 reward: 200 epsilon: 0.0500\n",
      "Episode 111 reward: 47 epsilon: 0.0500\n",
      "Episode 112 reward: 86 epsilon: 0.0500\n",
      "Episode 113 reward: 22 epsilon: 0.0500\n",
      "Episode 114 reward: -18 epsilon: 0.0500\n",
      "Episode 115 reward: 4 epsilon: 0.0500\n",
      "Episode 116 reward: -53 epsilon: 0.0500\n",
      "Episode 117 reward: 34 epsilon: 0.0500\n",
      "Episode 118 reward: 200 epsilon: 0.0500\n",
      "Episode 119 reward: 30 epsilon: 0.0500\n",
      "Episode 120 reward: -2 epsilon: 0.0500\n",
      "Episode 121 reward: 30 epsilon: 0.0500\n",
      "Episode 122 reward: 93 epsilon: 0.0500\n",
      "Episode 123 reward: 40 epsilon: 0.0500\n",
      "Episode 124 reward: 72 epsilon: 0.0500\n",
      "Episode 125 reward: 28 epsilon: 0.0500\n",
      "Episode 126 reward: 200 epsilon: 0.0500\n",
      "Episode 127 reward: 33 epsilon: 0.0500\n",
      "Episode 128 reward: -77 epsilon: 0.0500\n",
      "Episode 129 reward: 39 epsilon: 0.0500\n",
      "Episode 130 reward: 54 epsilon: 0.0500\n",
      "Episode 131 reward: 69 epsilon: 0.0500\n",
      "Episode 132 reward: 30 epsilon: 0.0500\n",
      "Episode 133 reward: -68 epsilon: 0.0500\n",
      "Episode 134 reward: -32 epsilon: 0.0500\n",
      "Episode 135 reward: -62 epsilon: 0.0500\n",
      "Episode 136 reward: -51 epsilon: 0.0500\n",
      "Episode 137 reward: -38 epsilon: 0.0500\n",
      "Episode 138 reward: -58 epsilon: 0.0500\n",
      "Episode 139 reward: -60 epsilon: 0.0500\n",
      "Episode 140 reward: -68 epsilon: 0.0500\n",
      "Episode 141 reward: 86 epsilon: 0.0500\n",
      "Episode 142 reward: -28 epsilon: 0.0500\n",
      "Episode 143 reward: -7 epsilon: 0.0500\n",
      "Episode 144 reward: 200 epsilon: 0.0500\n",
      "Episode 145 reward: -21 epsilon: 0.0500\n",
      "Episode 146 reward: 75 epsilon: 0.0500\n",
      "Episode 147 reward: 18 epsilon: 0.0500\n",
      "Episode 148 reward: 96 epsilon: 0.0500\n",
      "Episode 149 reward: 200 epsilon: 0.0500\n",
      "Episode 150 reward: 200 epsilon: 0.0500\n",
      "Episode 151 reward: 54 epsilon: 0.0500\n",
      "Episode 152 reward: 89 epsilon: 0.0500\n",
      "Episode 153 reward: 200 epsilon: 0.0500\n",
      "Episode 154 reward: 200 epsilon: 0.0500\n",
      "Episode 155 reward: 200 epsilon: 0.0500\n",
      "Episode 156 reward: 200 epsilon: 0.0500\n",
      "Episode 157 reward: 200 epsilon: 0.0500\n",
      "Episode 158 reward: 200 epsilon: 0.0500\n",
      "Episode 159 reward: 200 epsilon: 0.0500\n",
      "Episode 160 reward: 200 epsilon: 0.0500\n",
      "Episode 161 reward: 200 epsilon: 0.0500\n",
      "Episode 162 reward: 200 epsilon: 0.0500\n",
      "Episode 163 reward: 200 epsilon: 0.0500\n",
      "Episode 164 reward: 200 epsilon: 0.0500\n",
      "Episode 165 reward: 200 epsilon: 0.0500\n",
      "Episode 166 reward: 97 epsilon: 0.0500\n",
      "Episode 167 reward: 200 epsilon: 0.0500\n",
      "Episode 168 reward: 200 epsilon: 0.0500\n",
      "Episode 169 reward: 80 epsilon: 0.0500\n",
      "Episode 170 reward: 200 epsilon: 0.0500\n",
      "Episode 171 reward: 200 epsilon: 0.0500\n",
      "Episode 172 reward: 200 epsilon: 0.0500\n",
      "Episode 173 reward: 200 epsilon: 0.0500\n",
      "Episode 174 reward: 95 epsilon: 0.0500\n",
      "Episode 175 reward: 200 epsilon: 0.0500\n",
      "Episode 176 reward: 200 epsilon: 0.0500\n",
      "Episode 177 reward: 200 epsilon: 0.0500\n",
      "Episode 178 reward: 200 epsilon: 0.0500\n",
      "Episode 179 reward: 200 epsilon: 0.0500\n",
      "Episode 180 reward: 200 epsilon: 0.0500\n",
      "Episode 181 reward: 200 epsilon: 0.0500\n",
      "Episode 182 reward: 200 epsilon: 0.0500\n",
      "Episode 183 reward: 200 epsilon: 0.0500\n",
      "Episode 184 reward: 200 epsilon: 0.0500\n",
      "Episode 185 reward: 200 epsilon: 0.0500\n",
      "Episode 186 reward: 97 epsilon: 0.0500\n",
      "Episode 187 reward: 200 epsilon: 0.0500\n",
      "Episode 188 reward: 200 epsilon: 0.0500\n",
      "Episode 189 reward: 53 epsilon: 0.0500\n",
      "Episode 190 reward: 200 epsilon: 0.0500\n",
      "Episode 191 reward: 200 epsilon: 0.0500\n",
      "Episode 192 reward: 200 epsilon: 0.0500\n",
      "Episode 193 reward: 200 epsilon: 0.0500\n",
      "Episode 194 reward: 200 epsilon: 0.0500\n",
      "Episode 195 reward: 200 epsilon: 0.0500\n",
      "Episode 196 reward: 200 epsilon: 0.0500\n",
      "Episode 197 reward: 200 epsilon: 0.0500\n",
      "Episode 198 reward: 200 epsilon: 0.0500\n",
      "Episode 199 reward: 200 epsilon: 0.0500\n"
     ]
    },
    {
     "data": {
      "text/plain": [
       "[<matplotlib.lines.Line2D at 0x7fb91b51fc18>]"
      ]
     },
     "execution_count": 51,
     "metadata": {},
     "output_type": "execute_result"
    },
    {
     "data": {
      "image/png": "[encoded data removed]",
      "text/plain": [
       "<matplotlib.figure.Figure at 0x7fb91b8f0128>"
      ]
     },
     "metadata": {},
     "output_type": "display_data"
    }
   ],
   "source": [
    "env = gym.make('CartPole-v0')\n",
    "qlearner = QLearner(env)\n",
    "\n",
    "qlearner.train(nb_episodes=200)\n",
    "plt.figure(2)\n",
    "plt.clf()\n",
    "plt.title('Training...')\n",
    "plt.xlabel('Episode')\n",
    "plt.ylabel('Duration')\n",
    "plt.plot(qlearner.episode_durations)"
   ]
  },
  {
   "cell_type": "code",
   "execution_count": 52,
   "metadata": {},
   "outputs": [
    {
     "name": "stdout",
     "output_type": "stream",
     "text": [
      "Total Reward:  200.0\n",
      "Total Reward:  200.0\n",
      "Total Reward:  200.0\n",
      "Total Reward:  200.0\n",
      "Total Reward:  200.0\n"
     ]
    }
   ],
   "source": [
    "for i in range(5):\n",
    "    qlearner.run() "
   ]
  },
  {
   "cell_type": "code",
   "execution_count": 586,
   "metadata": {},
   "outputs": [
    {
     "data": {
      "text/plain": [
       "array([[ 0.01091137,  0.02291591]])"
      ]
     },
     "execution_count": 586,
     "metadata": {},
     "output_type": "execute_result"
    }
   ],
   "source": [
    "qlearner.Q[2, 2, 3, 3, None]"
   ]
  },
  {
   "cell_type": "markdown",
   "metadata": {},
   "source": [
    "# Learnings\n",
    "- Having a big negative reward for failing really helps with convergence when the table gets big\n",
    "- bigger tabular dimensions require more training time\n",
    "    - bins of [5, 5, 5, 5] seems easy to learn with and manageable.\n",
    "    - bins of [7, 7, 7, 7] requires much longer training time\n",
    "    - bins of [5, 5, 11, 11] is doable but takes longer and decay needs to be longer (30000)\n",
    "- convergence is much better with odd number bins\n",
    "- best result is when pole velocity (last state) is 3 bins\n",
    "- a higher alpha (1.0 or even 0.1 vs 0.01) made a huge difference to learning\n",
    "\n",
    "- after revisiting this I realized by accident that in a smaller state space, a faster decaying epsilon kicks ass"
   ]
  },
  {
   "cell_type": "code",
   "execution_count": 24,
   "metadata": {},
   "outputs": [
    {
     "name": "stdout",
     "output_type": "stream",
     "text": [
      "{(1, 2): (0, 1), (1, 2, 1): 'b', ((1, 2), (0, 1)): 'z', 'a': 1, (1, 2, 2): 'c', (1, 2, 0): 'a'}\n",
      "(0, 1)\n",
      "0 1\n",
      "False\n"
     ]
    }
   ],
   "source": [
    "Q = {}\n",
    "\n",
    "Q[\"a\"] = 1\n",
    "Q[(1, 2, 0)] = \"a\"\n",
    "Q[(1, 2, 1)] = \"b\"\n",
    "Q[1, 2, 2] = \"c\"\n",
    "Q[(1, 2), (0, 1)] = \"z\"\n",
    "\n",
    "Q[(1, 2)] = (0, 1)\n",
    "print(Q)\n",
    "print(Q[(1,2)]) \n",
    "print(Q[(1,2)][0], Q[(1,2)][1])\n",
    "\n",
    "print((9,9,9) in Q) # check if key exists"
   ]
  }
 ],
 "metadata": {
  "kernelspec": {
   "display_name": "Python 3",
   "language": "python",
   "name": "python3"
  },
  "language_info": {
   "codemirror_mode": {
    "name": "ipython",
    "version": 3
   },
   "file_extension": ".py",
   "mimetype": "text/x-python",
   "name": "python",
   "nbconvert_exporter": "python",
   "pygments_lexer": "ipython3",
   "version": "3.5.3"
  }
 },
 "nbformat": 4,
 "nbformat_minor": 2
}
