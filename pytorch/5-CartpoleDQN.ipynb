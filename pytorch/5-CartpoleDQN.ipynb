{
 "cells": [
  {
   "cell_type": "code",
   "execution_count": 1,
   "metadata": {
    "collapsed": true
   },
   "outputs": [],
   "source": [
    "import numpy as np\n",
    "import gym as gym\n",
    "from collections import namedtuple, deque\n",
    "import matplotlib\n",
    "import matplotlib.pyplot as plt\n",
    "import time\n",
    "from IPython import display\n",
    "import cv2 as cv2\n",
    "import random\n",
    "# %matplotlib inline\n",
    "# matplotlib.get_backend()\n",
    "# plt.isinteractive()\n",
    "\n",
    "import torch\n",
    "import torch.nn as nn\n",
    "import torch.optim as optim\n",
    "import torch.nn.functional as F\n",
    "from torch.autograd import Variable\n",
    "import torchvision.transforms as T\n"
   ]
  },
  {
   "cell_type": "code",
   "execution_count": null,
   "metadata": {},
   "outputs": [],
   "source": [
    "env = gym.make(\"CartPole-v0\")\n",
    "env.reset()\n",
    "\n",
    "for i in range(100):\n",
    "    action = env.action_space.sample()\n",
    "    obs, reward, done, info = env.step(action)\n",
    "    screen = env.render(mode='rgb_array')\n",
    "    plt.imshow(screen)\n",
    "    display.clear_output(wait=True)\n",
    "    display.display(plt.gcf())\n",
    "    \n",
    "    if done:\n",
    "        break\n",
    "        \n",
    "display.clear_output(wait=True)\n",
    "\n",
    "env.close()"
   ]
  },
  {
   "cell_type": "code",
   "execution_count": null,
   "metadata": {},
   "outputs": [],
   "source": [
    "def process_screen(image):\n",
    "    img = image[150:330, :]\n",
    "    img = cv2.cvtColor(img, cv2.COLOR_RGB2GRAY)\n",
    "    return img\n",
    "\n",
    "env = gym.make(\"CartPole-v0\")\n",
    "env.reset()\n",
    "prev_screen = process_screen(env.render(mode='rgb_array'))\n",
    "\n",
    "for i in range(1):\n",
    "    action = env.action_space.sample()\n",
    "    obs, reward, done, info = env.step(action)\n",
    "    screen = env.render(mode='rgb_array')\n",
    "    screen = process_screen(screen)\n",
    "    print(screen.shape)\n",
    "    plt.imshow(screen, cmap=\"gray\")\n",
    "    \n",
    "    if done:\n",
    "        break\n",
    "        \n",
    "env.close()"
   ]
  },
  {
   "cell_type": "code",
   "execution_count": 2,
   "metadata": {},
   "outputs": [
    {
     "ename": "NameError",
     "evalue": "name 'prev_screen' is not defined",
     "output_type": "error",
     "traceback": [
      "\u001b[0;31m---------------------------------------------------------------------------\u001b[0m",
      "\u001b[0;31mNameError\u001b[0m                                 Traceback (most recent call last)",
      "\u001b[0;32m<ipython-input-2-72f53161cf35>\u001b[0m in \u001b[0;36m<module>\u001b[0;34m()\u001b[0m\n\u001b[0;32m----> 1\u001b[0;31m \u001b[0mprint\u001b[0m\u001b[0;34m(\u001b[0m\u001b[0mprev_screen\u001b[0m\u001b[0;34m.\u001b[0m\u001b[0mshape\u001b[0m\u001b[0;34m)\u001b[0m\u001b[0;34m\u001b[0m\u001b[0m\n\u001b[0m\u001b[1;32m      2\u001b[0m \u001b[0mout\u001b[0m \u001b[0;34m=\u001b[0m \u001b[0mnp\u001b[0m\u001b[0;34m.\u001b[0m\u001b[0mstack\u001b[0m\u001b[0;34m(\u001b[0m\u001b[0;34m[\u001b[0m\u001b[0mscreen\u001b[0m\u001b[0;34m,\u001b[0m \u001b[0mprev_screen\u001b[0m\u001b[0;34m,\u001b[0m \u001b[0mnp\u001b[0m\u001b[0;34m.\u001b[0m\u001b[0mzeros_like\u001b[0m\u001b[0;34m(\u001b[0m\u001b[0mscreen\u001b[0m\u001b[0;34m)\u001b[0m\u001b[0;34m]\u001b[0m\u001b[0;34m,\u001b[0m \u001b[0maxis\u001b[0m\u001b[0;34m=\u001b[0m\u001b[0;36m2\u001b[0m\u001b[0;34m)\u001b[0m\u001b[0;34m\u001b[0m\u001b[0m\n\u001b[1;32m      3\u001b[0m \u001b[0mprint\u001b[0m\u001b[0;34m(\u001b[0m\u001b[0mout\u001b[0m\u001b[0;34m.\u001b[0m\u001b[0mshape\u001b[0m\u001b[0;34m)\u001b[0m\u001b[0;34m\u001b[0m\u001b[0m\n\u001b[1;32m      4\u001b[0m \u001b[0mplt\u001b[0m\u001b[0;34m.\u001b[0m\u001b[0mimshow\u001b[0m\u001b[0;34m(\u001b[0m\u001b[0mout\u001b[0m\u001b[0;34m)\u001b[0m\u001b[0;34m\u001b[0m\u001b[0m\n",
      "\u001b[0;31mNameError\u001b[0m: name 'prev_screen' is not defined"
     ]
    }
   ],
   "source": [
    "print(prev_screen.shape)\n",
    "out = np.stack([screen, prev_screen, np.zeros_like(screen)], axis=2)\n",
    "print(out.shape)\n",
    "plt.imshow(out)"
   ]
  },
  {
   "cell_type": "code",
   "execution_count": 3,
   "metadata": {},
   "outputs": [
    {
     "name": "stdout",
     "output_type": "stream",
     "text": [
      "Transition(s=[0, 1, 2, 3], a=0, s_1=[4, 5, 6, 7], r=0, done=True)\n"
     ]
    }
   ],
   "source": [
    "Transition = namedtuple(\"Transition\", [\"s\", \"a\", \"s_1\", \"r\", \"done\"])\n",
    "\n",
    "a = Transition([0, 1, 2, 3], 0, [4, 5, 6, 7], 0, True)\n",
    "print(a)"
   ]
  },
  {
   "cell_type": "code",
   "execution_count": 4,
   "metadata": {},
   "outputs": [
    {
     "name": "stdout",
     "output_type": "stream",
     "text": [
      "len:  4\n",
      "Memory: 4 \n",
      "5 \n",
      "6 \n",
      "3 \n",
      "\n",
      "[array([[0, 1, 2, 3],\n",
      "       [0, 1, 2, 3]]), array([[0],\n",
      "       [0]]), array([[4, 5, 6, 7],\n",
      "       [4, 5, 6, 7]]), array([[0],\n",
      "       [0]]), array([[ True],\n",
      "       [ True]], dtype=bool)]\n",
      "(2, 4)\n",
      "(2, 1)\n",
      "[[ True]\n",
      " [ True]]\n"
     ]
    }
   ],
   "source": [
    "class ReplayMemory(object):\n",
    "\n",
    "    def __init__(self, capacity):\n",
    "        self.capacity = capacity\n",
    "        self.memory = []\n",
    "        self.position = 0\n",
    "\n",
    "    def push(self, item):\n",
    "        \"\"\"Saves a transition.\"\"\"\n",
    "        if len(self.memory) < self.capacity:\n",
    "            self.memory.append(None)\n",
    "        self.memory[self.position] = item\n",
    "        self.position = (self.position + 1) % self.capacity\n",
    "\n",
    "    def sample(self, batch_size):\n",
    "        out = random.sample(self.memory, batch_size)\n",
    "        batched = Transition(*zip(*out))\n",
    "        s = np.array(list(batched.s))\n",
    "        a = np.expand_dims(np.array(list(batched.a)), axis=1)\n",
    "        s_1 = np.array(list(batched.s_1))\n",
    "        r = np.expand_dims(np.array(list(batched.r)), axis=1)\n",
    "        done = np.expand_dims(np.array(list(batched.done)), axis=1)\n",
    "        return [s, a, s_1, r, done]\n",
    "\n",
    "    def __len__(self):\n",
    "        return len(self.memory)\n",
    "    \n",
    "    def __str__(self):\n",
    "        result = []\n",
    "        for i in range(self.__len__()):\n",
    "            result.append(self.memory[i].__str__() + \" \\n\")\n",
    "        return \"\".join(result)\n",
    "        \n",
    "\n",
    "memory = ReplayMemory(capacity=4)\n",
    "\n",
    "for i in range(7):\n",
    "    memory.push(i)\n",
    "\n",
    "\n",
    "print(\"len: \", len(memory))\n",
    "print(\"Memory:\", memory)\n",
    "\n",
    "memory = ReplayMemory(capacity=10)\n",
    "\n",
    "for i in range(10):\n",
    "    a = Transition([0, 1, 2, 3], 0, [4, 5, 6, 7], 0, True)\n",
    "    memory.push(a)\n",
    "    \n",
    "sample = memory.sample(2)\n",
    "print(sample)\n",
    "print(sample[0].shape)\n",
    "print(sample[1].shape)\n",
    "print(sample[4])\n"
   ]
  },
  {
   "cell_type": "code",
   "execution_count": 223,
   "metadata": {},
   "outputs": [
    {
     "name": "stdout",
     "output_type": "stream",
     "text": [
      "DQNLinear (\n",
      "  (fc1): Linear (4 -> 128)\n",
      "  (fc3): Linear (128 -> 2)\n",
      ")\n",
      "(1, 4)\n",
      "(1, 2)\n"
     ]
    }
   ],
   "source": [
    "class DQNLinear(nn.Module):\n",
    "    def __init__(self, *args):\n",
    "        super(DQNLinear, self).__init__(*args)\n",
    "        self.fc1 = nn.Linear(4, 128)\n",
    "#         self.fc2 = nn.Linear(12, 12)\n",
    "        self.fc3 = nn.Linear(128, 2)\n",
    "        \n",
    "    def forward(self, x):\n",
    "        x = F.relu(self.fc1(x))\n",
    "#         x = F.relu(self.fc2(x))\n",
    "        x = self.fc3(x)\n",
    "        return x\n",
    "\n",
    "dqn = DQNLinear()\n",
    "print(dqn)\n",
    "\n",
    "# x = np.stack([screen, prev_screen], axis=2)\n",
    "# x = np.expand_dims(x, axis=0)\n",
    "# x = np.rollaxis(x, 3, 1)\n",
    "x = torch.Tensor([1, 1, 1, 1])\n",
    "x = torch.unsqueeze(x, 0)\n",
    "x = Variable(x).float()\n",
    "print(x.data.numpy().shape)\n",
    "# print(x)\n",
    "# x = Variable(torch.randn(2, 2, 180, 600))\n",
    "        \n",
    "output = dqn(x)\n",
    "print(output.data.numpy().shape)\n",
    "\n",
    "# create your optimizer\n",
    "optimizer = optim.Adam(dqn.parameters(), lr=0.01)\n",
    "criterion = nn.MSELoss()\n",
    "\n",
    "# in your training loop:\n",
    "optimizer.zero_grad()   # zero the gradient buffers\n",
    "output = dqn(x)\n",
    "loss = criterion(output, Variable(torch.Tensor([0,0])))\n",
    "loss.backward()\n",
    "optimizer.step()    # Does the update"
   ]
  },
  {
   "cell_type": "code",
   "execution_count": null,
   "metadata": {
    "collapsed": true
   },
   "outputs": [],
   "source": []
  },
  {
   "cell_type": "code",
   "execution_count": null,
   "metadata": {
    "collapsed": true
   },
   "outputs": [],
   "source": []
  },
  {
   "cell_type": "markdown",
   "metadata": {},
   "source": [
    "# Ok, now we do DQN with the continuous states received rather than pixels"
   ]
  },
  {
   "cell_type": "code",
   "execution_count": 6,
   "metadata": {},
   "outputs": [
    {
     "name": "stdout",
     "output_type": "stream",
     "text": [
      "1.0\n",
      "0.99\n",
      "0.98\n",
      "0.97\n",
      "0.01\n",
      "0.0\n",
      "0.01\n"
     ]
    }
   ],
   "source": [
    "class Epsilon(object):\n",
    "    def __init__(self, start=1.0, end=0.01, update_increment=0.01):\n",
    "        self.start = start\n",
    "        self.end = end\n",
    "        self.update_increment = update_increment\n",
    "        self._value = self.start\n",
    "        self.isTraining = True\n",
    "    \n",
    "    def increment(self, count=1):\n",
    "        self._value = max(self.end, self._value - self.update_increment*count)\n",
    "        return self\n",
    "        \n",
    "    def value(self):\n",
    "        if not self.isTraining:\n",
    "            return 0.0\n",
    "        else:\n",
    "            return self._value\n",
    "    \n",
    "    \n",
    "eps = Epsilon(start=1.0, end=0.01, update_increment=0.01)\n",
    "print(eps.value())\n",
    "print(eps.increment().value())\n",
    "print(eps.increment().value())\n",
    "print(eps.increment().value())\n",
    "print(eps.increment(99).value())\n",
    "eps.isTraining = False\n",
    "print(eps.increment().value())\n",
    "eps.isTraining = True\n",
    "print(eps.increment().value())"
   ]
  },
  {
   "cell_type": "code",
   "execution_count": 224,
   "metadata": {
    "scrolled": false
   },
   "outputs": [
    {
     "data": {
      "image/png": "[encoded data removed]",
      "text/plain": [
       "<matplotlib.figure.Figure at 0x7fb69a01b518>"
      ]
     },
     "metadata": {},
     "output_type": "display_data"
    },
    {
     "name": "stdout",
     "output_type": "stream",
     "text": [
      "CPU times: user 1min 27s, sys: 1min 34s, total: 3min 1s\n",
      "Wall time: 48.3 s\n"
     ]
    }
   ],
   "source": [
    "import copy\n",
    "class DQNLinearLearner(object):\n",
    "    def __init__(self, env=None, double_Q=False):\n",
    "        self.env = env\n",
    "        self.epsilon = Epsilon(start=1.0, end=0.01, update_increment=0.005)\n",
    "        self.gamma = 0.99\n",
    "        self.train_q_per_step = 4\n",
    "        self.train_q_batch_size = 256\n",
    "        self.steps_before_training = 1000\n",
    "        self.target_q_update_frequency = 100\n",
    "        \n",
    "        self.memory = ReplayMemory(capacity=10000)\n",
    "        self.Q = DQNLinear()\n",
    "        self.Qt = copy.deepcopy(self.Q)# DQNLinear()\n",
    "#         self.Qt.load_state_dict(self.Q.state_dict())\n",
    "        self.use_double_Q = double_Q\n",
    "        self.optimizer = optim.Adam(self.Q.parameters(), lr=1e-3)\n",
    "        self.criterion = nn.MSELoss()\n",
    "\n",
    "        self.reset()\n",
    "        self.episode_rewards = []\n",
    "        self.epsilon_log = []\n",
    "        self.l_tq_squared_error = deque(maxlen=1000)\n",
    "        \n",
    "\n",
    "    def get_action(self, s):\n",
    "        s = self.state_to_tensor(s)\n",
    "        actions = self.Q(s)\n",
    "        if np.random.rand() > self.epsilon.value():\n",
    "            action = np.argmax(actions.data.numpy())\n",
    "#             print(actions.data.numpy(), action)\n",
    "#             print(\"not exploring\", self.epsilon.value())\n",
    "        else:\n",
    "            action = self.env.action_space.sample()\n",
    "#             print(\"exploring\", action, \"epsilon:\", self.epsilon.value())\n",
    "        return action\n",
    "\n",
    "    def state_to_tensor(self, s):\n",
    "        x = torch.Tensor(s)\n",
    "        x = torch.unsqueeze(x, 0)\n",
    "        x = Variable(x, volatile=True).float()\n",
    "        return x\n",
    "    \n",
    "    def reset(self):\n",
    "        self.s = env.reset()\n",
    "    \n",
    "    def train(self, nb_episodes=1, display=None):\n",
    "        self.epsilon.isTraining = True\n",
    "        step = 0\n",
    "        \n",
    "        for episode in range(nb_episodes):\n",
    "            self.reset()\n",
    "            episode_reward = 0\n",
    "            \n",
    "            while True:\n",
    "                action = self.get_action(self.s)\n",
    "                s_1, r, done, _ = self.env.step(action)\n",
    "#                 if done and episode_reward < 200:\n",
    "#                     r = -99\n",
    "                    \n",
    "                transition = Transition(self.s, action, s_1, r, done)\n",
    "                self.memory.push(transition)\n",
    "                episode_reward += r\n",
    "                step += 1\n",
    "                self.s = s_1\n",
    "                \n",
    "                if done:\n",
    "                    break;\n",
    "                \n",
    "                if step % self.train_q_per_step == 0 and step > self.steps_before_training:\n",
    "                    self.train_q()\n",
    "                    \n",
    "                if step % self.target_q_update_frequency == 0 and step > self.steps_before_training:\n",
    "                    self.update_target_q()\n",
    "                    \n",
    "            if step > self.steps_before_training:\n",
    "                self.epsilon.increment() # increment epsilon per episode\n",
    "#             print(\"Episode reward: \", episode_reward)\n",
    "            self.episode_rewards.append(episode_reward)\n",
    "            self.epsilon_log.append(self.epsilon.value())\n",
    "            if display is not None and step % 500 == 0:\n",
    "                display(self)\n",
    "        if display is not None:\n",
    "            display(self)\n",
    "    \n",
    "    def train_q(self):\n",
    "#         print(\"training q. Memory size:\", len(self.memory))\n",
    "        if self.train_q_batch_size >= len(self.memory):\n",
    "            return\n",
    "        \n",
    "        s, a, s_1, r, done = self.memory.sample(self.train_q_batch_size)\n",
    "        s = Variable(torch.from_numpy(s)).float()\n",
    "        a = Variable(torch.from_numpy(a)).long()\n",
    "        s_1 = Variable(torch.from_numpy(s_1), volatile=True).float()\n",
    "        r = Variable(torch.from_numpy(r)).float()\n",
    "        done = Variable(torch.from_numpy(1 - done)).float()\n",
    "        \n",
    "        # Q_sa = r + gamma * max(Q_s'a')\n",
    "        Q = self.Q(s)\n",
    "#         print(\"s:\", s, \"Q:\", Q)\n",
    "        Q = Q.gather(1, a)\n",
    "#         print(\"a:\", a, \"Q:\", Q)\n",
    "        Qt = self.Qt(s_1)\n",
    "#         print(\"s_1:\", s_1, \"Qt:\", Qt)\n",
    "\n",
    "        if self.use_double_Q:\n",
    "            best_action = self.Q(s_1).max(dim=1)[1].view(-1, 1)\n",
    "            y = r + done * self.gamma * Qt.gather(1, best_action)\n",
    "        else:\n",
    "            y = r + done * self.gamma * Qt.max(dim=1)[0].unsqueeze(1)\n",
    "\n",
    "        y.volatile = False #weird\n",
    "\n",
    "        loss = self.criterion(Q, y)\n",
    "#         loss = F.smooth_l1_loss(Q, y)\n",
    "        self.l_tq_squared_error.append(loss.data.numpy().sum())\n",
    "        self.optimizer.zero_grad()   # zero the gradient buffers\n",
    "        loss.backward()\n",
    "#         for param in self.Q.parameters():\n",
    "#             param.grad.data.clamp_(-1, 1)\n",
    "        self.optimizer.step()\n",
    "\n",
    "    def update_target_q(self):\n",
    "        \"\"\"Update the target Q-value function by copying the current Q-value function weights.\"\"\"\n",
    "#         self.Qt.load_state_dict(self.Q.state_dict())\n",
    "        self.Qt = copy.deepcopy(self.Q)\n",
    "\n",
    "    def run(self):\n",
    "        self.reset()\n",
    "        self.epsilon.isTraining = False\n",
    "#         self.env.render()\n",
    "        episode_reward = 0\n",
    "        while True:\n",
    "            self.env.render()\n",
    "            action = self.get_action(self.s)\n",
    "            s_1, r, done, _ = self.env.step(action)\n",
    "            episode_reward += r\n",
    "            self.s = s_1\n",
    "\n",
    "            if done:\n",
    "                break;\n",
    "        \n",
    "        self.env.render(close=True)\n",
    "        print(\"Total Reward: \", episode_reward)\n",
    "    \n",
    "env = gym.make(\"CartPole-v0\")\n",
    "learner = DQNLinearLearner(env, double_Q=True)\n",
    "\n",
    "def show_chart(learner):\n",
    "    plt.figure(figsize=(15,10))\n",
    "    plt.subplot(2, 2, 1)\n",
    "    plt.xlabel('Episode')\n",
    "    plt.ylabel('Duration')\n",
    "    plt.plot(learner.episode_rewards)\n",
    "    plt.subplot(2, 2, 2)\n",
    "    plt.xlabel('Last x Training Cycles')\n",
    "    plt.ylabel('Loss')\n",
    "    plt.plot(list(learner.l_tq_squared_error))\n",
    "    plt.subplot(2, 2, 3)\n",
    "    plt.xlabel('Episode')\n",
    "    plt.ylabel('Epsilon')\n",
    "    plt.plot(list(learner.epsilon_log))\n",
    "    display.clear_output(wait=True)\n",
    "    display.display(plt.gcf())\n",
    "\n",
    "%time learner.train(500, show_chart)\n",
    "# learner.train(1)\n"
   ]
  },
  {
   "cell_type": "code",
   "execution_count": 217,
   "metadata": {},
   "outputs": [
    {
     "name": "stdout",
     "output_type": "stream",
     "text": [
      "Total Reward:  18.0\n",
      "Total Reward:  19.0\n",
      "Total Reward:  15.0\n"
     ]
    }
   ],
   "source": [
    "###### learner.train(100, show_chart)\n",
    "for i in range(3):\n",
    "    learner.run()\n",
    "# display.clear_output(wait=True)"
   ]
  },
  {
   "cell_type": "markdown",
   "metadata": {
    "collapsed": true
   },
   "source": [
    "# Lessons Learnt\n",
    "- Wasted heaps of time forgetting to set s = s_1 after a loop\n",
    "- Using a MLP (batch 256) with 1 hidden layer of 48 vs 128, the 128 one trained in less than 300 episodes while the 48 gets really wild results\n",
    "- Using a MLP (batch 256) with 2 hidden layer of 48 will train the network within 500 episodes. Results are somewhat consistent, sometimes it trains even faster than the 128 1 layer MLP. 2 hidden layers of 12 can sometimes still learn in 500 episdoes\n",
    "- Collecting some data first before training reduces total time required for training. e.g. waiting 1000 steps before training. This is just on observation\n",
    "- Double Q does seem to have a positive effect on the learning\n",
    "- Failure reward of -1 didn't seem to make much of a difference. A failure reward of -99 sometimes trains quick, but often wild swings in results\n",
    "- It seems the magnitude and direction of loss curve doesn't matter much at all, as long as the NN is minimizing the loss as it goes.\n",
    "- Batch size of 256 vs 64, 256 trains way faster and is much more stable\n",
    "- F.smooth_l1_loss(Huber Loss) seem to require a higher learning rate 1e-2 and is more unstable. MSE works fine with 1e-3 and is more stable, 1e-2 for MSE trains faster but is less stable"
   ]
  },
  {
   "cell_type": "code",
   "execution_count": null,
   "metadata": {
    "collapsed": true
   },
   "outputs": [],
   "source": []
  },
  {
   "cell_type": "code",
   "execution_count": null,
   "metadata": {
    "collapsed": true
   },
   "outputs": [],
   "source": []
  },
  {
   "cell_type": "code",
   "execution_count": null,
   "metadata": {
    "collapsed": true
   },
   "outputs": [],
   "source": []
  },
  {
   "cell_type": "code",
   "execution_count": null,
   "metadata": {
    "collapsed": true
   },
   "outputs": [],
   "source": []
  },
  {
   "cell_type": "code",
   "execution_count": null,
   "metadata": {
    "collapsed": true
   },
   "outputs": [],
   "source": []
  },
  {
   "cell_type": "code",
   "execution_count": null,
   "metadata": {
    "collapsed": true
   },
   "outputs": [],
   "source": []
  },
  {
   "cell_type": "code",
   "execution_count": null,
   "metadata": {
    "collapsed": true
   },
   "outputs": [],
   "source": [
    "def process_screen(image):\n",
    "    img = image[150:330, :]\n",
    "    img = cv2.cvtColor(img, cv2.COLOR_RGB2GRAY)\n",
    "    return img\n",
    "\n",
    "def image2state(s1, s0=None):\n",
    "    img1 = process_screen(s1)\n",
    "    if s0 is not None:\n",
    "        img0 = process_screen(s0)\n",
    "    else:\n",
    "        img0 = np.zeros_like(img1)\n",
    "        \n",
    "    out = np.stack([img1, img0], axis=2)\n",
    "    out = np.rollaxis(out, 2, 0)\n",
    "    out = Variable(torch.from_numpy(out)).float()\n",
    "    return out\n"
   ]
  },
  {
   "cell_type": "code",
   "execution_count": null,
   "metadata": {
    "collapsed": true
   },
   "outputs": [],
   "source": [
    "\n",
    "\n",
    "class DQN(nn.Module):\n",
    "    def __init__(self, *args):\n",
    "        super(DQN, self).__init__(*args)\n",
    "        self.conv1 = nn.Conv2d(2, 10, kernel_size=3, stride=2, padding=1)\n",
    "        self.conv2 = nn.Conv2d(10, 15, kernel_size=3, stride=2, padding=1)\n",
    "        self.conv3 = nn.Conv2d(15, 20, kernel_size=3, stride=2, padding=1)\n",
    "        self.conv4 = nn.Conv2d(20, 25, kernel_size=3, stride=2, padding=1)\n",
    "        self.conv5 = nn.Conv2d(25, 30, kernel_size=3, stride=2, padding=1)\n",
    "        self.fc1 = nn.Linear(30 * 6 * 19, 600)\n",
    "        self.fc2 = nn.Linear(600, 100)\n",
    "        self.fc3 = nn.Linear(100, 20)\n",
    "        self.fc4 = nn.Linear(20, 2)\n",
    "        \n",
    "    def forward(self, x):\n",
    "        x = F.relu(self.conv1(x))\n",
    "        x = F.relu(self.conv2(x))\n",
    "        x = F.relu(self.conv3(x))\n",
    "        x = F.relu(self.conv4(x))\n",
    "        x = F.relu(self.conv5(x))\n",
    "#         print(x.view(x.size(0), -1))\n",
    "        x = x.view(x.size(0), -1)\n",
    "        x = F.relu(self.fc1(x))\n",
    "        x = F.relu(self.fc2(x))\n",
    "        x = F.relu(self.fc3(x))\n",
    "        x = F.relu(self.fc4(x))\n",
    "        \n",
    "        return x\n",
    "\n",
    "dqn = DQN()\n",
    "print(dqn)\n",
    "\n",
    "x = np.stack([screen, prev_screen], axis=2)\n",
    "x = np.expand_dims(x, axis=0)\n",
    "x = np.rollaxis(x, 3, 1)\n",
    "x = Variable(torch.from_numpy(x)).float()\n",
    "print(x.data.numpy().shape)\n",
    "# print(x)\n",
    "# x = Variable(torch.randn(2, 2, 180, 600))\n",
    "        \n",
    "output = dqn(x)\n",
    "print(output.data.numpy().shape)\n",
    "\n",
    "# create your optimizer\n",
    "optimizer = optim.SGD(dqn.parameters(), lr=0.01)\n",
    "criterion = nn.MSELoss()\n",
    "\n",
    "# in your training loop:\n",
    "optimizer.zero_grad()   # zero the gradient buffers\n",
    "output = dqn(x)\n",
    "loss = criterion(output, Variable(torch.Tensor([0,0])))\n",
    "loss.backward()\n",
    "optimizer.step()    # Does the update"
   ]
  },
  {
   "cell_type": "code",
   "execution_count": null,
   "metadata": {
    "collapsed": true
   },
   "outputs": [],
   "source": []
  },
  {
   "cell_type": "code",
   "execution_count": null,
   "metadata": {
    "collapsed": true
   },
   "outputs": [],
   "source": []
  },
  {
   "cell_type": "code",
   "execution_count": null,
   "metadata": {
    "collapsed": true
   },
   "outputs": [],
   "source": []
  }
 ],
 "metadata": {
  "kernelspec": {
   "display_name": "Python 3",
   "language": "python",
   "name": "python3"
  },
  "language_info": {
   "codemirror_mode": {
    "name": "ipython",
    "version": 3
   },
   "file_extension": ".py",
   "mimetype": "text/x-python",
   "name": "python",
   "nbconvert_exporter": "python",
   "pygments_lexer": "ipython3",
   "version": "3.5.3"
  }
 },
 "nbformat": 4,
 "nbformat_minor": 2
}
