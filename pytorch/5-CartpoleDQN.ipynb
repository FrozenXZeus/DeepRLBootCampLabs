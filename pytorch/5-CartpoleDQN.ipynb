{
 "cells": [
  {
   "cell_type": "code",
   "execution_count": 1,
   "metadata": {
    "collapsed": true
   },
   "outputs": [],
   "source": [
    "import numpy as np\n",
    "import gym as gym\n",
    "from collections import namedtuple, deque\n",
    "import matplotlib\n",
    "import matplotlib.pyplot as plt\n",
    "import time\n",
    "from IPython import display\n",
    "import cv2 as cv2\n",
    "import random\n",
    "# %matplotlib inline\n",
    "# matplotlib.get_backend()\n",
    "# plt.isinteractive()\n",
    "\n",
    "import torch\n",
    "import torch.nn as nn\n",
    "import torch.optim as optim\n",
    "import torch.nn.functional as F\n",
    "from torch.autograd import Variable\n",
    "import torchvision.transforms as T\n"
   ]
  },
  {
   "cell_type": "code",
   "execution_count": 2,
   "metadata": {},
   "outputs": [
    {
     "data": {
      "image/png": "[encoded data removed]",
      "text/plain": [
       "<matplotlib.figure.Figure at 0x7fdb978d0710>"
      ]
     },
     "metadata": {},
     "output_type": "display_data"
    }
   ],
   "source": [
    "env = gym.make(\"CartPole-v0\")\n",
    "env.reset()\n",
    "\n",
    "for i in range(100):\n",
    "    action = env.action_space.sample()\n",
    "    obs, reward, done, info = env.step(action)\n",
    "    screen = env.render(mode='rgb_array')\n",
    "    plt.imshow(screen)\n",
    "    display.clear_output(wait=True)\n",
    "    display.display(plt.gcf())\n",
    "    \n",
    "    if done:\n",
    "        break\n",
    "        \n",
    "display.clear_output(wait=True)\n",
    "\n",
    "env.close()"
   ]
  },
  {
   "cell_type": "code",
   "execution_count": 3,
   "metadata": {},
   "outputs": [
    {
     "name": "stderr",
     "output_type": "stream",
     "text": [
      "[2018-01-14 23:12:55,641] Making new env: CartPole-v0\n"
     ]
    },
    {
     "name": "stdout",
     "output_type": "stream",
     "text": [
      "(180, 600)\n"
     ]
    }
   ],
   "source": [
    "def process_screen(image):\n",
    "    img = image[150:330, :]\n",
    "    img = cv2.cvtColor(img, cv2.COLOR_RGB2GRAY)\n",
    "    return img\n",
    "\n",
    "env = gym.make(\"CartPole-v0\")\n",
    "env.reset()\n",
    "prev_screen = process_screen(env.render(mode='rgb_array'))\n",
    "\n",
    "for i in range(1):\n",
    "    action = env.action_space.sample()\n",
    "    obs, reward, done, info = env.step(action)\n",
    "    screen = env.render(mode='rgb_array')\n",
    "    screen = process_screen(screen)\n",
    "    print(screen.shape)\n",
    "    plt.imshow(screen, cmap=\"gray\")\n",
    "    \n",
    "    if done:\n",
    "        break\n",
    "        \n",
    "env.close()"
   ]
  },
  {
   "cell_type": "code",
   "execution_count": 4,
   "metadata": {},
   "outputs": [
    {
     "name": "stdout",
     "output_type": "stream",
     "text": [
      "(180, 600)\n",
      "(180, 600, 3)\n"
     ]
    },
    {
     "data": {
      "text/plain": [
       "<matplotlib.image.AxesImage at 0x7fdb93e24fd0>"
      ]
     },
     "execution_count": 4,
     "metadata": {},
     "output_type": "execute_result"
    }
   ],
   "source": [
    "print(prev_screen.shape)\n",
    "out = np.stack([screen, prev_screen, np.zeros_like(screen)], axis=2)\n",
    "print(out.shape)\n",
    "plt.imshow(out)"
   ]
  },
  {
   "cell_type": "code",
   "execution_count": 5,
   "metadata": {},
   "outputs": [
    {
     "name": "stdout",
     "output_type": "stream",
     "text": [
      "Transition(s=[0, 1, 2, 3], a=0, s_1=[4, 5, 6, 7], r=0)\n"
     ]
    }
   ],
   "source": [
    "Transition = namedtuple(\"Transition\", [\"s\", \"a\", \"s_1\", \"r\"])\n",
    "\n",
    "a = Transition([0, 1, 2, 3], 0, [4, 5, 6, 7], 0)\n",
    "print(a)"
   ]
  },
  {
   "cell_type": "code",
   "execution_count": 6,
   "metadata": {},
   "outputs": [
    {
     "name": "stdout",
     "output_type": "stream",
     "text": [
      "deque([1, 2, 3, 4, 5], maxlen=5)\n",
      "deque([2, 3, 4], maxlen=3)\n"
     ]
    }
   ],
   "source": [
    "deck = deque(maxlen=5)\n",
    "\n",
    "k = 0\n",
    "for i in range(6):\n",
    "    deck.append(k)\n",
    "    k += 1\n",
    "\n",
    "print(deck)\n",
    "\n",
    "deck = deque(range(5), maxlen=3)\n",
    "print(deck)"
   ]
  },
  {
   "cell_type": "code",
   "execution_count": 56,
   "metadata": {},
   "outputs": [
    {
     "name": "stdout",
     "output_type": "stream",
     "text": [
      "len:  4\n",
      "Memory: 4 \n",
      "5 \n",
      "6 \n",
      "3 \n",
      "\n",
      "[array([[0, 1, 2, 3],\n",
      "       [0, 1, 2, 3]]), array([[0],\n",
      "       [0]]), array([[4, 5, 6, 7],\n",
      "       [4, 5, 6, 7]]), array([[0],\n",
      "       [0]])]\n",
      "(2, 4)\n",
      "(2, 1)\n"
     ]
    }
   ],
   "source": [
    "class ReplayMemory(object):\n",
    "\n",
    "    def __init__(self, capacity):\n",
    "        self.capacity = capacity\n",
    "        self.memory = []\n",
    "        self.position = 0\n",
    "\n",
    "    def push(self, item):\n",
    "        \"\"\"Saves a transition.\"\"\"\n",
    "        if len(self.memory) < self.capacity:\n",
    "            self.memory.append(None)\n",
    "        self.memory[self.position] = item\n",
    "        self.position = (self.position + 1) % self.capacity\n",
    "\n",
    "    def sample(self, batch_size):\n",
    "        out = random.sample(self.memory, batch_size)\n",
    "        batched = Transition(*zip(*out))\n",
    "        s = np.array(list(batched.s))\n",
    "        a = np.expand_dims(np.array(list(batched.a)), axis=1)\n",
    "        s_1 = np.array(list(batched.s_1))\n",
    "        r = np.expand_dims(np.array(list(batched.r)), axis=1)\n",
    "        return [s, a, s_1, r]\n",
    "\n",
    "    def __len__(self):\n",
    "        return len(self.memory)\n",
    "    \n",
    "    def __str__(self):\n",
    "        result = []\n",
    "        for i in range(self.__len__()):\n",
    "            result.append(self.memory[i].__str__() + \" \\n\")\n",
    "        return \"\".join(result)\n",
    "        \n",
    "\n",
    "memory = ReplayMemory(capacity=4)\n",
    "\n",
    "for i in range(7):\n",
    "    memory.push(i)\n",
    "\n",
    "\n",
    "print(\"len: \", len(memory))\n",
    "print(\"Memory:\", memory)\n",
    "\n",
    "memory = ReplayMemory(capacity=10)\n",
    "\n",
    "for i in range(10):\n",
    "    a = Transition([0, 1, 2, 3], 0, [4, 5, 6, 7], 0)\n",
    "    memory.push(a)\n",
    "    \n",
    "sample = memory.sample(2)\n",
    "print(sample)\n",
    "print(sample[0].shape)\n",
    "print(sample[1].shape)\n"
   ]
  },
  {
   "cell_type": "code",
   "execution_count": 61,
   "metadata": {},
   "outputs": [
    {
     "name": "stdout",
     "output_type": "stream",
     "text": [
      "DQNLinear (\n",
      "  (fc1): Linear (4 -> 10)\n",
      "  (fc2): Linear (10 -> 10)\n",
      "  (fc3): Linear (10 -> 2)\n",
      ")\n",
      "(1, 4)\n",
      "(1, 2)\n"
     ]
    }
   ],
   "source": [
    "class DQNLinear(nn.Module):\n",
    "    def __init__(self, *args):\n",
    "        super(DQNLinear, self).__init__(*args)\n",
    "        self.fc1 = nn.Linear(4, 10)\n",
    "        self.fc2 = nn.Linear(10, 10)\n",
    "        self.fc3 = nn.Linear(10, 2)\n",
    "        \n",
    "    def forward(self, x):\n",
    "        x = F.relu(self.fc1(x))\n",
    "        x = F.relu(self.fc2(x))\n",
    "        x = self.fc3(x)\n",
    "        return x\n",
    "\n",
    "dqn = DQNLinear()\n",
    "print(dqn)\n",
    "\n",
    "# x = np.stack([screen, prev_screen], axis=2)\n",
    "# x = np.expand_dims(x, axis=0)\n",
    "# x = np.rollaxis(x, 3, 1)\n",
    "x = torch.Tensor([1, 1, 1, 1])\n",
    "x = torch.unsqueeze(x, 0)\n",
    "x = Variable(x).float()\n",
    "print(x.data.numpy().shape)\n",
    "# print(x)\n",
    "# x = Variable(torch.randn(2, 2, 180, 600))\n",
    "        \n",
    "output = dqn(x)\n",
    "print(output.data.numpy().shape)\n",
    "\n",
    "# create your optimizer\n",
    "optimizer = optim.Adam(dqn.parameters(), lr=0.01)\n",
    "criterion = nn.MSELoss()\n",
    "\n",
    "# in your training loop:\n",
    "optimizer.zero_grad()   # zero the gradient buffers\n",
    "output = dqn(x)\n",
    "loss = criterion(output, Variable(torch.Tensor([0,0])))\n",
    "loss.backward()\n",
    "optimizer.step()    # Does the update"
   ]
  },
  {
   "cell_type": "code",
   "execution_count": null,
   "metadata": {
    "collapsed": true
   },
   "outputs": [],
   "source": []
  },
  {
   "cell_type": "code",
   "execution_count": null,
   "metadata": {
    "collapsed": true
   },
   "outputs": [],
   "source": []
  },
  {
   "cell_type": "markdown",
   "metadata": {},
   "source": [
    "# Ok, now we do DQN with the continuous states received rather than pixels"
   ]
  },
  {
   "cell_type": "code",
   "execution_count": 9,
   "metadata": {},
   "outputs": [
    {
     "name": "stdout",
     "output_type": "stream",
     "text": [
      "1.0\n",
      "0.99\n",
      "0.98\n",
      "0.97\n",
      "0.01\n",
      "0.0\n",
      "0.01\n"
     ]
    }
   ],
   "source": [
    "class Epsilon(object):\n",
    "    def __init__(self, start=1.0, end=0.01, update_increment=0.01):\n",
    "        self.start = start\n",
    "        self.end = end\n",
    "        self.update_increment = update_increment\n",
    "        self._value = self.start\n",
    "        self.isTraining = True\n",
    "    \n",
    "    def increment(self, count=1):\n",
    "        self._value = max(self.end, self._value - self.update_increment*count)\n",
    "        return self\n",
    "        \n",
    "    def value(self):\n",
    "        if not self.isTraining:\n",
    "            return 0.0\n",
    "        else:\n",
    "            return self._value\n",
    "    \n",
    "    \n",
    "eps = Epsilon(start=1.0, end=0.01, update_increment=0.01)\n",
    "print(eps.value())\n",
    "print(eps.increment().value())\n",
    "print(eps.increment().value())\n",
    "print(eps.increment().value())\n",
    "print(eps.increment(99).value())\n",
    "eps.isTraining = False\n",
    "print(eps.increment().value())\n",
    "eps.isTraining = True\n",
    "print(eps.increment().value())"
   ]
  },
  {
   "cell_type": "code",
   "execution_count": 70,
   "metadata": {},
   "outputs": [
    {
     "name": "stderr",
     "output_type": "stream",
     "text": [
      "[2018-01-15 00:16:40,877] Making new env: CartPole-v0\n"
     ]
    },
    {
     "name": "stdout",
     "output_type": "stream",
     "text": [
      "training q\n",
      "Variable containing:\n",
      " 0.4047  0.2223\n",
      " 0.4110  0.2460\n",
      " 0.4167  0.2441\n",
      " 0.4114  0.2261\n",
      "[torch.FloatTensor of size 4x2]\n",
      "\n",
      "-----------\n",
      "(Variable containing:\n",
      " 0.4047\n",
      " 0.4110\n",
      " 0.4167\n",
      " 0.4114\n",
      "[torch.FloatTensor of size 4]\n",
      ", Variable containing:\n",
      " 0\n",
      " 0\n",
      " 0\n",
      " 0\n",
      "[torch.LongTensor of size 4]\n",
      ")\n",
      "Episode reward:  15.0\n"
     ]
    }
   ],
   "source": [
    "class DQNLinearLearner(object):\n",
    "    def __init__(self, env=None):\n",
    "        self.env = env\n",
    "        self.epsilon = Epsilon(start=1.0, end=0.01, update_increment=0.01)\n",
    "        self.gamma = 0.99\n",
    "        self.train_q_per_step = 10\n",
    "        self.train_q_batch_size = 10\n",
    "        \n",
    "        self.memory = ReplayMemory(capacity=1000)\n",
    "        self.dqn = DQNLinear()\n",
    "        self.reset()\n",
    "        \n",
    "\n",
    "    def get_action(self, s):\n",
    "        s = self.state_to_tensor(s)\n",
    "        actions = self.dqn(s)\n",
    "        if np.random.rand() > self.epsilon.value():\n",
    "            action = np.argmax(actions.data.numpy())\n",
    "#             print(actions.data.numpy())\n",
    "#             print(\"not exploring\", self.epsilon.value())\n",
    "        else:\n",
    "            action = self.env.action_space.sample()\n",
    "#             print(\"exploring\", action, \"epsilon:\", self.epsilon.value())\n",
    "        return action\n",
    "\n",
    "    def state_to_tensor(self, s):\n",
    "        x = torch.Tensor(s)\n",
    "        x = torch.unsqueeze(x, 0)\n",
    "        x = Variable(x).float()\n",
    "        return x\n",
    "    \n",
    "    def reset(self):\n",
    "        self.s = env.reset()\n",
    "    \n",
    "    def train(self, nb_episodes=1):\n",
    "        self.epsilon.isTraining = True\n",
    "        step = 0\n",
    "        \n",
    "        for episode in range(nb_episodes):\n",
    "            self.reset()\n",
    "            episode_reward = 0\n",
    "            \n",
    "            while True:\n",
    "                action = self.get_action(self.s)\n",
    "                s_1, r, done, _ = self.env.step(action)\n",
    "                if done:\n",
    "                    r = 0\n",
    "                    \n",
    "                transition = Transition(self.s, action, s_1, r)\n",
    "                self.memory.push(transition)\n",
    "                episode_reward += r\n",
    "                step += 1\n",
    "                \n",
    "                if done:\n",
    "                    break;\n",
    "                \n",
    "                if step % self.train_q_per_step == 0 and step > 0:\n",
    "                    self.train_q()\n",
    "                \n",
    "            self.epsilon.increment() # increment epsilon per episode\n",
    "            print(\"Episode reward: \", episode_reward)\n",
    "    \n",
    "    def train_q(self):\n",
    "        print(\"training q\")\n",
    "        if self.train_q_batch_size < len(self.memory):\n",
    "            return\n",
    "        s, a, s_1, r = self.memory.sample(4)\n",
    "        s = Variable(torch.from_numpy(s)).float()\n",
    "        a = Variable(torch.from_numpy(a)).float()\n",
    "        s_1 = Variable(torch.from_numpy(s_1)).float()\n",
    "        r = Variable(torch.from_numpy(r)).float()\n",
    "        \n",
    "        # Q_sa = r + gamma * max(Q_s'a')\n",
    "        left = self.dqn(s)  #Q_sa\n",
    "        right = self.dqn(s_1)\n",
    "        \n",
    "        print(right)\n",
    "        print(\"-----------\")\n",
    "        print(right.max(1))\n",
    "\n",
    "    def run(self):\n",
    "        self.reset()\n",
    "        self.epsilon.isTraining = False\n",
    "        self.env.render()\n",
    "        episode_reward = 0\n",
    "        while True:\n",
    "            self.env.render()\n",
    "            action = self.get_action(self.s)\n",
    "            s_1, r, done, _ = self.env.step(action)\n",
    "            episode_reward += r\n",
    "\n",
    "            if done:\n",
    "                break;\n",
    "        \n",
    "        self.env.render(close=True)\n",
    "        print(\"Total Reward: \", episode_reward)\n",
    "    \n",
    "env = gym.make(\"CartPole-v0\")\n",
    "learner = DQNLinearLearner(env)\n",
    "\n",
    "learner.train()\n"
   ]
  },
  {
   "cell_type": "code",
   "execution_count": null,
   "metadata": {
    "collapsed": true
   },
   "outputs": [],
   "source": []
  },
  {
   "cell_type": "code",
   "execution_count": null,
   "metadata": {
    "collapsed": true
   },
   "outputs": [],
   "source": []
  },
  {
   "cell_type": "code",
   "execution_count": null,
   "metadata": {
    "collapsed": true
   },
   "outputs": [],
   "source": []
  },
  {
   "cell_type": "code",
   "execution_count": null,
   "metadata": {
    "collapsed": true
   },
   "outputs": [],
   "source": []
  },
  {
   "cell_type": "code",
   "execution_count": null,
   "metadata": {
    "collapsed": true
   },
   "outputs": [],
   "source": []
  },
  {
   "cell_type": "code",
   "execution_count": null,
   "metadata": {
    "collapsed": true
   },
   "outputs": [],
   "source": []
  },
  {
   "cell_type": "code",
   "execution_count": null,
   "metadata": {
    "collapsed": true
   },
   "outputs": [],
   "source": []
  },
  {
   "cell_type": "code",
   "execution_count": null,
   "metadata": {
    "collapsed": true
   },
   "outputs": [],
   "source": []
  },
  {
   "cell_type": "code",
   "execution_count": null,
   "metadata": {
    "collapsed": true
   },
   "outputs": [],
   "source": []
  },
  {
   "cell_type": "code",
   "execution_count": null,
   "metadata": {
    "collapsed": true
   },
   "outputs": [],
   "source": [
    "def process_screen(image):\n",
    "    img = image[150:330, :]\n",
    "    img = cv2.cvtColor(img, cv2.COLOR_RGB2GRAY)\n",
    "    return img\n",
    "\n",
    "def image2state(s1, s0=None):\n",
    "    img1 = process_screen(s1)\n",
    "    if s0 is not None:\n",
    "        img0 = process_screen(s0)\n",
    "    else:\n",
    "        img0 = np.zeros_like(img1)\n",
    "        \n",
    "    out = np.stack([img1, img0], axis=2)\n",
    "    out = np.rollaxis(out, 2, 0)\n",
    "    out = Variable(torch.from_numpy(out)).float()\n",
    "    return out\n"
   ]
  },
  {
   "cell_type": "code",
   "execution_count": null,
   "metadata": {
    "collapsed": true
   },
   "outputs": [],
   "source": [
    "\n",
    "\n",
    "class DQN(nn.Module):\n",
    "    def __init__(self, *args):\n",
    "        super(DQN, self).__init__(*args)\n",
    "        self.conv1 = nn.Conv2d(2, 10, kernel_size=3, stride=2, padding=1)\n",
    "        self.conv2 = nn.Conv2d(10, 15, kernel_size=3, stride=2, padding=1)\n",
    "        self.conv3 = nn.Conv2d(15, 20, kernel_size=3, stride=2, padding=1)\n",
    "        self.conv4 = nn.Conv2d(20, 25, kernel_size=3, stride=2, padding=1)\n",
    "        self.conv5 = nn.Conv2d(25, 30, kernel_size=3, stride=2, padding=1)\n",
    "        self.fc1 = nn.Linear(30 * 6 * 19, 600)\n",
    "        self.fc2 = nn.Linear(600, 100)\n",
    "        self.fc3 = nn.Linear(100, 20)\n",
    "        self.fc4 = nn.Linear(20, 2)\n",
    "        \n",
    "    def forward(self, x):\n",
    "        x = F.relu(self.conv1(x))\n",
    "        x = F.relu(self.conv2(x))\n",
    "        x = F.relu(self.conv3(x))\n",
    "        x = F.relu(self.conv4(x))\n",
    "        x = F.relu(self.conv5(x))\n",
    "#         print(x.view(x.size(0), -1))\n",
    "        x = x.view(x.size(0), -1)\n",
    "        x = F.relu(self.fc1(x))\n",
    "        x = F.relu(self.fc2(x))\n",
    "        x = F.relu(self.fc3(x))\n",
    "        x = F.relu(self.fc4(x))\n",
    "        \n",
    "        return x\n",
    "\n",
    "dqn = DQN()\n",
    "print(dqn)\n",
    "\n",
    "x = np.stack([screen, prev_screen], axis=2)\n",
    "x = np.expand_dims(x, axis=0)\n",
    "x = np.rollaxis(x, 3, 1)\n",
    "x = Variable(torch.from_numpy(x)).float()\n",
    "print(x.data.numpy().shape)\n",
    "# print(x)\n",
    "# x = Variable(torch.randn(2, 2, 180, 600))\n",
    "        \n",
    "output = dqn(x)\n",
    "print(output.data.numpy().shape)\n",
    "\n",
    "# create your optimizer\n",
    "optimizer = optim.SGD(dqn.parameters(), lr=0.01)\n",
    "criterion = nn.MSELoss()\n",
    "\n",
    "# in your training loop:\n",
    "optimizer.zero_grad()   # zero the gradient buffers\n",
    "output = dqn(x)\n",
    "loss = criterion(output, Variable(torch.Tensor([0,0])))\n",
    "loss.backward()\n",
    "optimizer.step()    # Does the update"
   ]
  }
 ],
 "metadata": {
  "kernelspec": {
   "display_name": "Python 3",
   "language": "python",
   "name": "python3"
  },
  "language_info": {
   "codemirror_mode": {
    "name": "ipython",
    "version": 3
   },
   "file_extension": ".py",
   "mimetype": "text/x-python",
   "name": "python",
   "nbconvert_exporter": "python",
   "pygments_lexer": "ipython3",
   "version": "3.5.3"
  }
 },
 "nbformat": 4,
 "nbformat_minor": 2
}
